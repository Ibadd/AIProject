{
  "nbformat": 4,
  "nbformat_minor": 0,
  "metadata": {
    "kernelspec": {
      "display_name": "Python 3",
      "language": "python",
      "name": "python3"
    },
    "language_info": {
      "codemirror_mode": {
        "name": "ipython",
        "version": 3
      },
      "file_extension": ".py",
      "mimetype": "text/x-python",
      "name": "python",
      "nbconvert_exporter": "python",
      "pygments_lexer": "ipython3",
      "version": "3.8.5"
    },
    "colab": {
      "name": "Image Classification using CNN.ipynb",
      "provenance": []
    }
  },
  "cells": [
    {
      "cell_type": "markdown",
      "metadata": {
        "id": "wmRg29edkgJ6"
      },
      "source": [
        "<h3>1. Import module yang dibutuhkan</h3>"
      ]
    },
    {
      "cell_type": "code",
      "metadata": {
        "id": "U0zc3VE9kgKK"
      },
      "source": [
        "from sklearn.model_selection import train_test_split\n",
        "from sklearn.preprocessing import LabelEncoder\n",
        "from sklearn.metrics import classification_report\n",
        "from tensorflow.keras.models import Sequential\n",
        "from tensorflow.keras.layers import InputLayer, Flatten, Dense, Conv2D, MaxPool2D, Dropout\n",
        "from tensorflow.keras.optimizers import Adam\n",
        "import numpy as np\n",
        "import cv2\n",
        "import glob\n",
        "import matplotlib.pyplot as plt"
      ],
      "execution_count": null,
      "outputs": []
    },
    {
      "cell_type": "markdown",
      "metadata": {
        "id": "TDFRKgeskgKL"
      },
      "source": [
        "<h3>2. Load Dataset</h3>"
      ]
    },
    {
      "cell_type": "code",
      "metadata": {
        "id": "xR_kP53YkgKM"
      },
      "source": [
        "imagePaths = 'dataset\\\\animal_elw\\\\'\n",
        "label_list = ['elephant', 'lion']\n",
        "data = []\n",
        "labels = []"
      ],
      "execution_count": null,
      "outputs": []
    },
    {
      "cell_type": "code",
      "metadata": {
        "id": "8KZLXD_GkgKM"
      },
      "source": [
        "for label in label_list:\n",
        "    for imagePath in glob.glob(imagePaths+label+'\\\\*.jpg'):\n",
        "        #print(imagePath)\n",
        "        image = cv2.imread(imagePath)\n",
        "        image = cv2.resize(image, (32, 32))\n",
        "        data.append(image)\n",
        "        labels.append(label)"
      ],
      "execution_count": null,
      "outputs": []
    },
    {
      "cell_type": "code",
      "metadata": {
        "id": "3NCI1lHIkgKM",
        "outputId": "49d785a5-9386-40c0-a698-3f6e8c62451f"
      },
      "source": [
        "np.array(data).shape"
      ],
      "execution_count": null,
      "outputs": [
        {
          "data": {
            "text/plain": [
              "(200, 32, 32, 3)"
            ]
          },
          "execution_count": 5,
          "metadata": {},
          "output_type": "execute_result"
        }
      ]
    },
    {
      "cell_type": "markdown",
      "metadata": {
        "id": "z6P-ZJ9hkgKN"
      },
      "source": [
        "<h3>3. Data Preprocessing</h3>"
      ]
    },
    {
      "cell_type": "code",
      "metadata": {
        "id": "ne0kRAuVkgKO"
      },
      "source": [
        "# ubah type data dari list menjadi array\n",
        "# ubah nilai dari tiap pixel menjadi range [0..1]\n",
        "data = np.array(data, dtype='float') / 255.0\n",
        "labels = np.array(labels)"
      ],
      "execution_count": null,
      "outputs": []
    },
    {
      "cell_type": "code",
      "metadata": {
        "id": "FANBJzn-kgKO",
        "outputId": "1962cfb9-d30a-465b-e89a-911267c4535a"
      },
      "source": [
        "print(labels)"
      ],
      "execution_count": null,
      "outputs": [
        {
          "name": "stdout",
          "output_type": "stream",
          "text": [
            "['elephant' 'elephant' 'elephant' 'elephant' 'elephant' 'elephant'\n",
            " 'elephant' 'elephant' 'elephant' 'elephant' 'elephant' 'elephant'\n",
            " 'elephant' 'elephant' 'elephant' 'elephant' 'elephant' 'elephant'\n",
            " 'elephant' 'elephant' 'elephant' 'elephant' 'elephant' 'elephant'\n",
            " 'elephant' 'elephant' 'elephant' 'elephant' 'elephant' 'elephant'\n",
            " 'elephant' 'elephant' 'elephant' 'elephant' 'elephant' 'elephant'\n",
            " 'elephant' 'elephant' 'elephant' 'elephant' 'elephant' 'elephant'\n",
            " 'elephant' 'elephant' 'elephant' 'elephant' 'elephant' 'elephant'\n",
            " 'elephant' 'elephant' 'elephant' 'elephant' 'elephant' 'elephant'\n",
            " 'elephant' 'elephant' 'elephant' 'elephant' 'elephant' 'elephant'\n",
            " 'elephant' 'elephant' 'elephant' 'elephant' 'elephant' 'elephant'\n",
            " 'elephant' 'elephant' 'elephant' 'elephant' 'elephant' 'elephant'\n",
            " 'elephant' 'elephant' 'elephant' 'elephant' 'elephant' 'elephant'\n",
            " 'elephant' 'elephant' 'elephant' 'elephant' 'elephant' 'elephant'\n",
            " 'elephant' 'elephant' 'elephant' 'elephant' 'elephant' 'elephant'\n",
            " 'elephant' 'elephant' 'elephant' 'elephant' 'elephant' 'elephant'\n",
            " 'elephant' 'elephant' 'elephant' 'elephant' 'lion' 'lion' 'lion' 'lion'\n",
            " 'lion' 'lion' 'lion' 'lion' 'lion' 'lion' 'lion' 'lion' 'lion' 'lion'\n",
            " 'lion' 'lion' 'lion' 'lion' 'lion' 'lion' 'lion' 'lion' 'lion' 'lion'\n",
            " 'lion' 'lion' 'lion' 'lion' 'lion' 'lion' 'lion' 'lion' 'lion' 'lion'\n",
            " 'lion' 'lion' 'lion' 'lion' 'lion' 'lion' 'lion' 'lion' 'lion' 'lion'\n",
            " 'lion' 'lion' 'lion' 'lion' 'lion' 'lion' 'lion' 'lion' 'lion' 'lion'\n",
            " 'lion' 'lion' 'lion' 'lion' 'lion' 'lion' 'lion' 'lion' 'lion' 'lion'\n",
            " 'lion' 'lion' 'lion' 'lion' 'lion' 'lion' 'lion' 'lion' 'lion' 'lion'\n",
            " 'lion' 'lion' 'lion' 'lion' 'lion' 'lion' 'lion' 'lion' 'lion' 'lion'\n",
            " 'lion' 'lion' 'lion' 'lion' 'lion' 'lion' 'lion' 'lion' 'lion' 'lion'\n",
            " 'lion' 'lion' 'lion' 'lion' 'lion' 'lion']\n"
          ]
        }
      ]
    },
    {
      "cell_type": "code",
      "metadata": {
        "id": "-DnMf5AVkgKP",
        "outputId": "d010e6e4-bd17-4e69-ffb8-ca21fb4bfee9"
      },
      "source": [
        "# ubah nilai dari labels menjadi binary\n",
        "lb = LabelEncoder()\n",
        "labels = lb.fit_transform(labels)\n",
        "print(labels)"
      ],
      "execution_count": null,
      "outputs": [
        {
          "name": "stdout",
          "output_type": "stream",
          "text": [
            "[0 0 0 0 0 0 0 0 0 0 0 0 0 0 0 0 0 0 0 0 0 0 0 0 0 0 0 0 0 0 0 0 0 0 0 0 0\n",
            " 0 0 0 0 0 0 0 0 0 0 0 0 0 0 0 0 0 0 0 0 0 0 0 0 0 0 0 0 0 0 0 0 0 0 0 0 0\n",
            " 0 0 0 0 0 0 0 0 0 0 0 0 0 0 0 0 0 0 0 0 0 0 0 0 0 0 1 1 1 1 1 1 1 1 1 1 1\n",
            " 1 1 1 1 1 1 1 1 1 1 1 1 1 1 1 1 1 1 1 1 1 1 1 1 1 1 1 1 1 1 1 1 1 1 1 1 1\n",
            " 1 1 1 1 1 1 1 1 1 1 1 1 1 1 1 1 1 1 1 1 1 1 1 1 1 1 1 1 1 1 1 1 1 1 1 1 1\n",
            " 1 1 1 1 1 1 1 1 1 1 1 1 1 1 1]\n"
          ]
        }
      ]
    },
    {
      "cell_type": "markdown",
      "metadata": {
        "id": "PN0J4olTkgKP"
      },
      "source": [
        "<h3>4. Split Dataset</h3>"
      ]
    },
    {
      "cell_type": "code",
      "metadata": {
        "id": "r8ZWXAohkgKQ"
      },
      "source": [
        "x_train, x_test, y_train, y_test = train_test_split(data, labels, test_size=0.2, random_state=42)"
      ],
      "execution_count": null,
      "outputs": []
    },
    {
      "cell_type": "code",
      "metadata": {
        "id": "Liq02Yi8kgKQ",
        "outputId": "2d75964c-3310-4a03-aef1-e124a8c1127b"
      },
      "source": [
        "print('Ukuran data train =', x_train.shape)\n",
        "print('Ukuran data test =', x_test.shape)"
      ],
      "execution_count": null,
      "outputs": [
        {
          "name": "stdout",
          "output_type": "stream",
          "text": [
            "Ukuran data train = (160, 32, 32, 3)\n",
            "Ukuran data test = (40, 32, 32, 3)\n"
          ]
        }
      ]
    },
    {
      "cell_type": "markdown",
      "metadata": {
        "id": "kDlpveQ_kgKQ"
      },
      "source": [
        "<h3>5. Build CNN Architecture</h3>"
      ]
    },
    {
      "cell_type": "code",
      "metadata": {
        "id": "bYP3hzkbkgKR"
      },
      "source": [
        "model = Sequential()\n",
        "# Extracted Feature Layer\n",
        "model.add(InputLayer(input_shape=[32,32,3]))\n",
        "model.add(Conv2D(filters=32, kernel_size=2, strides=1, padding='same', activation='relu'))\n",
        "model.add(MaxPool2D(pool_size=2, padding='same'))\n",
        "model.add(Conv2D(filters=50, kernel_size=2, strides=1, padding='same', activation='relu'))\n",
        "model.add(MaxPool2D(pool_size=2, padding='same'))\n",
        "model.add(Dropout(0.25))\n",
        "model.add(Flatten())\n",
        "# Fully Connected Layer\n",
        "model.add(Dense(512, activation='relu'))\n",
        "model.add(Dropout(0.5))\n",
        "model.add(Dense(1, activation='sigmoid'))"
      ],
      "execution_count": null,
      "outputs": []
    },
    {
      "cell_type": "code",
      "metadata": {
        "id": "--yYk9KekgKR",
        "outputId": "bd7ee3a6-73a5-4260-f17c-31f3346dca9d"
      },
      "source": [
        "model.summary()"
      ],
      "execution_count": null,
      "outputs": [
        {
          "name": "stdout",
          "output_type": "stream",
          "text": [
            "Model: \"sequential_2\"\n",
            "_________________________________________________________________\n",
            "Layer (type)                 Output Shape              Param #   \n",
            "=================================================================\n",
            "conv2d_2 (Conv2D)            (None, 32, 32, 32)        416       \n",
            "_________________________________________________________________\n",
            "max_pooling2d_2 (MaxPooling2 (None, 16, 16, 32)        0         \n",
            "_________________________________________________________________\n",
            "conv2d_3 (Conv2D)            (None, 16, 16, 50)        6450      \n",
            "_________________________________________________________________\n",
            "max_pooling2d_3 (MaxPooling2 (None, 8, 8, 50)          0         \n",
            "_________________________________________________________________\n",
            "dropout_1 (Dropout)          (None, 8, 8, 50)          0         \n",
            "_________________________________________________________________\n",
            "flatten_1 (Flatten)          (None, 3200)              0         \n",
            "_________________________________________________________________\n",
            "dense (Dense)                (None, 512)               1638912   \n",
            "_________________________________________________________________\n",
            "dropout_2 (Dropout)          (None, 512)               0         \n",
            "_________________________________________________________________\n",
            "dense_1 (Dense)              (None, 1)                 513       \n",
            "=================================================================\n",
            "Total params: 1,646,291\n",
            "Trainable params: 1,646,291\n",
            "Non-trainable params: 0\n",
            "_________________________________________________________________\n"
          ]
        }
      ]
    },
    {
      "cell_type": "code",
      "metadata": {
        "id": "KnaPwJmSkgKR"
      },
      "source": [
        "# tentukan hyperparameter\n",
        "lr = 0.001\n",
        "max_epochs = 100\n",
        "opt_funct = Adam(learning_rate=lr)"
      ],
      "execution_count": null,
      "outputs": []
    },
    {
      "cell_type": "code",
      "metadata": {
        "id": "koNboksQkgKS"
      },
      "source": [
        "# compile arsitektur yang telah dibuat\n",
        "model.compile(loss = 'binary_crossentropy', \n",
        "              optimizer = opt_funct, \n",
        "              metrics = ['accuracy'])"
      ],
      "execution_count": null,
      "outputs": []
    },
    {
      "cell_type": "markdown",
      "metadata": {
        "id": "FTZqnP3ekgKS"
      },
      "source": [
        "<h3>6. Train Model</h3>"
      ]
    },
    {
      "cell_type": "code",
      "metadata": {
        "id": "xo7XNEi6kgKS",
        "outputId": "ff8f50d8-fc78-4aae-c676-79375b82f649"
      },
      "source": [
        "H = model.fit(x_train, y_train, validation_data=(x_test, y_test), \n",
        "          epochs=max_epochs, batch_size=32)"
      ],
      "execution_count": null,
      "outputs": [
        {
          "name": "stdout",
          "output_type": "stream",
          "text": [
            "Epoch 1/100\n",
            "5/5 [==============================] - 1s 134ms/step - loss: 0.6922 - accuracy: 0.5194 - val_loss: 0.7140 - val_accuracy: 0.4750\n",
            "Epoch 2/100\n",
            "5/5 [==============================] - 0s 73ms/step - loss: 0.6668 - accuracy: 0.5660 - val_loss: 0.5759 - val_accuracy: 0.6750\n",
            "Epoch 3/100\n",
            "5/5 [==============================] - 0s 69ms/step - loss: 0.6311 - accuracy: 0.6472 - val_loss: 0.5652 - val_accuracy: 0.7000\n",
            "Epoch 4/100\n",
            "5/5 [==============================] - 0s 73ms/step - loss: 0.5749 - accuracy: 0.6930 - val_loss: 0.4838 - val_accuracy: 0.9500\n",
            "Epoch 5/100\n",
            "5/5 [==============================] - 0s 68ms/step - loss: 0.4787 - accuracy: 0.8244 - val_loss: 0.4334 - val_accuracy: 0.9250\n",
            "Epoch 6/100\n",
            "5/5 [==============================] - 0s 76ms/step - loss: 0.4193 - accuracy: 0.8596 - val_loss: 0.3866 - val_accuracy: 0.8500\n",
            "Epoch 7/100\n",
            "5/5 [==============================] - 0s 78ms/step - loss: 0.3883 - accuracy: 0.8353 - val_loss: 0.3544 - val_accuracy: 0.8500\n",
            "Epoch 8/100\n",
            "5/5 [==============================] - 0s 68ms/step - loss: 0.3137 - accuracy: 0.9139 - val_loss: 0.3027 - val_accuracy: 0.9250\n",
            "Epoch 9/100\n",
            "5/5 [==============================] - 0s 67ms/step - loss: 0.3079 - accuracy: 0.8891 - val_loss: 0.3797 - val_accuracy: 0.7500\n",
            "Epoch 10/100\n",
            "5/5 [==============================] - 0s 66ms/step - loss: 0.3192 - accuracy: 0.8760 - val_loss: 0.2980 - val_accuracy: 0.9000\n",
            "Epoch 11/100\n",
            "5/5 [==============================] - 0s 67ms/step - loss: 0.2582 - accuracy: 0.9385 - val_loss: 0.3021 - val_accuracy: 0.8250\n",
            "Epoch 12/100\n",
            "5/5 [==============================] - 0s 68ms/step - loss: 0.2148 - accuracy: 0.9349 - val_loss: 0.2371 - val_accuracy: 0.9500\n",
            "Epoch 13/100\n",
            "5/5 [==============================] - 0s 67ms/step - loss: 0.1735 - accuracy: 0.9473 - val_loss: 0.2274 - val_accuracy: 0.9000\n",
            "Epoch 14/100\n",
            "5/5 [==============================] - 0s 67ms/step - loss: 0.1865 - accuracy: 0.9238 - val_loss: 0.2102 - val_accuracy: 0.9250\n",
            "Epoch 15/100\n",
            "5/5 [==============================] - 0s 73ms/step - loss: 0.1505 - accuracy: 0.9563 - val_loss: 0.1832 - val_accuracy: 0.9500\n",
            "Epoch 16/100\n",
            "5/5 [==============================] - 0s 73ms/step - loss: 0.1612 - accuracy: 0.9696 - val_loss: 0.2094 - val_accuracy: 0.9000\n",
            "Epoch 17/100\n",
            "5/5 [==============================] - 0s 71ms/step - loss: 0.1013 - accuracy: 0.9868 - val_loss: 0.1772 - val_accuracy: 0.9500\n",
            "Epoch 18/100\n",
            "5/5 [==============================] - 0s 69ms/step - loss: 0.1289 - accuracy: 0.9465 - val_loss: 0.2191 - val_accuracy: 0.8750\n",
            "Epoch 19/100\n",
            "5/5 [==============================] - 0s 80ms/step - loss: 0.0976 - accuracy: 0.9747 - val_loss: 0.1660 - val_accuracy: 0.9500\n",
            "Epoch 20/100\n",
            "5/5 [==============================] - 0s 69ms/step - loss: 0.0675 - accuracy: 0.9871 - val_loss: 0.1695 - val_accuracy: 0.9500\n",
            "Epoch 21/100\n",
            "5/5 [==============================] - 0s 87ms/step - loss: 0.0981 - accuracy: 0.9773 - val_loss: 0.1647 - val_accuracy: 0.9500\n",
            "Epoch 22/100\n",
            "5/5 [==============================] - 0s 68ms/step - loss: 0.0737 - accuracy: 0.9894 - val_loss: 0.1681 - val_accuracy: 0.9250\n",
            "Epoch 23/100\n",
            "5/5 [==============================] - 0s 67ms/step - loss: 0.0828 - accuracy: 0.9705 - val_loss: 0.1841 - val_accuracy: 0.9500\n",
            "Epoch 24/100\n",
            "5/5 [==============================] - 0s 68ms/step - loss: 0.0594 - accuracy: 0.9881 - val_loss: 0.1688 - val_accuracy: 0.9500\n",
            "Epoch 25/100\n",
            "5/5 [==============================] - 0s 68ms/step - loss: 0.0591 - accuracy: 0.9966 - val_loss: 0.2326 - val_accuracy: 0.8750\n",
            "Epoch 26/100\n",
            "5/5 [==============================] - 0s 65ms/step - loss: 0.0671 - accuracy: 0.9768 - val_loss: 0.1508 - val_accuracy: 0.9500\n",
            "Epoch 27/100\n",
            "5/5 [==============================] - 0s 83ms/step - loss: 0.0459 - accuracy: 0.9793 - val_loss: 0.1672 - val_accuracy: 0.9500\n",
            "Epoch 28/100\n",
            "5/5 [==============================] - 0s 68ms/step - loss: 0.0615 - accuracy: 0.9760 - val_loss: 0.1523 - val_accuracy: 0.9500\n",
            "Epoch 29/100\n",
            "5/5 [==============================] - 0s 82ms/step - loss: 0.0366 - accuracy: 0.9966 - val_loss: 0.1512 - val_accuracy: 0.9500\n",
            "Epoch 30/100\n",
            "5/5 [==============================] - 0s 68ms/step - loss: 0.0304 - accuracy: 1.0000 - val_loss: 0.2305 - val_accuracy: 0.8750\n",
            "Epoch 31/100\n",
            "5/5 [==============================] - 0s 70ms/step - loss: 0.0383 - accuracy: 1.0000 - val_loss: 0.1494 - val_accuracy: 0.9500\n",
            "Epoch 32/100\n",
            "5/5 [==============================] - 0s 68ms/step - loss: 0.0251 - accuracy: 0.9949 - val_loss: 0.1929 - val_accuracy: 0.9250\n",
            "Epoch 33/100\n",
            "5/5 [==============================] - 0s 69ms/step - loss: 0.0283 - accuracy: 1.0000 - val_loss: 0.1512 - val_accuracy: 0.9500\n",
            "Epoch 34/100\n",
            "5/5 [==============================] - 0s 69ms/step - loss: 0.0233 - accuracy: 0.9871 - val_loss: 0.1590 - val_accuracy: 0.9500\n",
            "Epoch 35/100\n",
            "5/5 [==============================] - 0s 72ms/step - loss: 0.0138 - accuracy: 1.0000 - val_loss: 0.1602 - val_accuracy: 0.9500\n",
            "Epoch 36/100\n",
            "5/5 [==============================] - 0s 71ms/step - loss: 0.0146 - accuracy: 1.0000 - val_loss: 0.1833 - val_accuracy: 0.9500\n",
            "Epoch 37/100\n",
            "5/5 [==============================] - 0s 67ms/step - loss: 0.0160 - accuracy: 0.9966 - val_loss: 0.1583 - val_accuracy: 0.9500\n",
            "Epoch 38/100\n",
            "5/5 [==============================] - 0s 61ms/step - loss: 0.0237 - accuracy: 0.9923 - val_loss: 0.2136 - val_accuracy: 0.9000\n",
            "Epoch 39/100\n",
            "5/5 [==============================] - 0s 83ms/step - loss: 0.0244 - accuracy: 0.9949 - val_loss: 0.1487 - val_accuracy: 0.9500\n",
            "Epoch 40/100\n",
            "5/5 [==============================] - 0s 64ms/step - loss: 0.0144 - accuracy: 1.0000 - val_loss: 0.1430 - val_accuracy: 0.9500\n",
            "Epoch 41/100\n",
            "5/5 [==============================] - 0s 85ms/step - loss: 0.0231 - accuracy: 1.0000 - val_loss: 0.1838 - val_accuracy: 0.9250\n",
            "Epoch 42/100\n",
            "5/5 [==============================] - 0s 72ms/step - loss: 0.0109 - accuracy: 1.0000 - val_loss: 0.1574 - val_accuracy: 0.9500\n",
            "Epoch 43/100\n",
            "5/5 [==============================] - 0s 75ms/step - loss: 0.0137 - accuracy: 1.0000 - val_loss: 0.1545 - val_accuracy: 0.9500\n",
            "Epoch 44/100\n",
            "5/5 [==============================] - 0s 80ms/step - loss: 0.0090 - accuracy: 1.0000 - val_loss: 0.1723 - val_accuracy: 0.9500\n",
            "Epoch 45/100\n",
            "5/5 [==============================] - 0s 66ms/step - loss: 0.0206 - accuracy: 0.9871 - val_loss: 0.1545 - val_accuracy: 0.9500\n",
            "Epoch 46/100\n",
            "5/5 [==============================] - 0s 83ms/step - loss: 0.0122 - accuracy: 1.0000 - val_loss: 0.1961 - val_accuracy: 0.9250\n",
            "Epoch 47/100\n",
            "5/5 [==============================] - 0s 76ms/step - loss: 0.0098 - accuracy: 1.0000 - val_loss: 0.2021 - val_accuracy: 0.9250\n",
            "Epoch 48/100\n",
            "5/5 [==============================] - 0s 80ms/step - loss: 0.0091 - accuracy: 1.0000 - val_loss: 0.1698 - val_accuracy: 0.9500\n",
            "Epoch 49/100\n",
            "5/5 [==============================] - 0s 78ms/step - loss: 0.0102 - accuracy: 1.0000 - val_loss: 0.2250 - val_accuracy: 0.9000\n",
            "Epoch 50/100\n",
            "5/5 [==============================] - 0s 86ms/step - loss: 0.0098 - accuracy: 1.0000 - val_loss: 0.2014 - val_accuracy: 0.9250\n",
            "Epoch 51/100\n",
            "5/5 [==============================] - 0s 69ms/step - loss: 0.0085 - accuracy: 1.0000 - val_loss: 0.1548 - val_accuracy: 0.9500\n",
            "Epoch 52/100\n",
            "5/5 [==============================] - 0s 78ms/step - loss: 0.0064 - accuracy: 1.0000 - val_loss: 0.1628 - val_accuracy: 0.9500\n",
            "Epoch 53/100\n",
            "5/5 [==============================] - 0s 79ms/step - loss: 0.0054 - accuracy: 1.0000 - val_loss: 0.2041 - val_accuracy: 0.9000\n",
            "Epoch 54/100\n",
            "5/5 [==============================] - 0s 70ms/step - loss: 0.0047 - accuracy: 1.0000 - val_loss: 0.1785 - val_accuracy: 0.9500\n",
            "Epoch 55/100\n",
            "5/5 [==============================] - 0s 70ms/step - loss: 0.0097 - accuracy: 1.0000 - val_loss: 0.1723 - val_accuracy: 0.9500\n",
            "Epoch 56/100\n",
            "5/5 [==============================] - 0s 63ms/step - loss: 0.0085 - accuracy: 1.0000 - val_loss: 0.2284 - val_accuracy: 0.8750\n",
            "Epoch 57/100\n",
            "5/5 [==============================] - 0s 61ms/step - loss: 0.0085 - accuracy: 1.0000 - val_loss: 0.1888 - val_accuracy: 0.9250\n",
            "Epoch 58/100\n",
            "5/5 [==============================] - 0s 69ms/step - loss: 0.0046 - accuracy: 1.0000 - val_loss: 0.1816 - val_accuracy: 0.9500\n",
            "Epoch 59/100\n"
          ]
        },
        {
          "name": "stdout",
          "output_type": "stream",
          "text": [
            "5/5 [==============================] - 0s 68ms/step - loss: 0.0036 - accuracy: 1.0000 - val_loss: 0.1837 - val_accuracy: 0.9500\n",
            "Epoch 60/100\n",
            "5/5 [==============================] - 0s 70ms/step - loss: 0.0104 - accuracy: 1.0000 - val_loss: 0.1777 - val_accuracy: 0.9500\n",
            "Epoch 61/100\n",
            "5/5 [==============================] - 0s 69ms/step - loss: 0.0053 - accuracy: 1.0000 - val_loss: 0.1804 - val_accuracy: 0.9250\n",
            "Epoch 62/100\n",
            "5/5 [==============================] - 0s 63ms/step - loss: 0.0068 - accuracy: 1.0000 - val_loss: 0.1530 - val_accuracy: 0.9250\n",
            "Epoch 63/100\n",
            "5/5 [==============================] - 0s 81ms/step - loss: 0.0101 - accuracy: 0.9923 - val_loss: 0.1929 - val_accuracy: 0.9250\n",
            "Epoch 64/100\n",
            "5/5 [==============================] - 0s 83ms/step - loss: 0.0080 - accuracy: 1.0000 - val_loss: 0.1612 - val_accuracy: 0.9250\n",
            "Epoch 65/100\n",
            "5/5 [==============================] - 0s 65ms/step - loss: 0.0039 - accuracy: 1.0000 - val_loss: 0.1604 - val_accuracy: 0.9500\n",
            "Epoch 66/100\n",
            "5/5 [==============================] - 0s 64ms/step - loss: 0.0055 - accuracy: 1.0000 - val_loss: 0.1605 - val_accuracy: 0.9500\n",
            "Epoch 67/100\n",
            "5/5 [==============================] - 0s 64ms/step - loss: 0.0036 - accuracy: 1.0000 - val_loss: 0.1720 - val_accuracy: 0.9250\n",
            "Epoch 68/100\n",
            "5/5 [==============================] - 0s 77ms/step - loss: 0.0029 - accuracy: 1.0000 - val_loss: 0.1615 - val_accuracy: 0.9500\n",
            "Epoch 69/100\n",
            "5/5 [==============================] - 0s 64ms/step - loss: 0.0029 - accuracy: 1.0000 - val_loss: 0.1468 - val_accuracy: 0.9500\n",
            "Epoch 70/100\n",
            "5/5 [==============================] - 0s 65ms/step - loss: 0.0027 - accuracy: 1.0000 - val_loss: 0.1542 - val_accuracy: 0.9500\n",
            "Epoch 71/100\n",
            "5/5 [==============================] - 0s 64ms/step - loss: 0.0042 - accuracy: 1.0000 - val_loss: 0.1559 - val_accuracy: 0.9500\n",
            "Epoch 72/100\n",
            "5/5 [==============================] - 0s 65ms/step - loss: 0.0021 - accuracy: 1.0000 - val_loss: 0.1765 - val_accuracy: 0.9500\n",
            "Epoch 73/100\n",
            "5/5 [==============================] - 0s 65ms/step - loss: 0.0015 - accuracy: 1.0000 - val_loss: 0.1877 - val_accuracy: 0.9500\n",
            "Epoch 74/100\n",
            "5/5 [==============================] - 0s 61ms/step - loss: 0.0017 - accuracy: 1.0000 - val_loss: 0.1716 - val_accuracy: 0.9500\n",
            "Epoch 75/100\n",
            "5/5 [==============================] - 0s 65ms/step - loss: 0.0051 - accuracy: 1.0000 - val_loss: 0.1611 - val_accuracy: 0.9500\n",
            "Epoch 76/100\n",
            "5/5 [==============================] - 0s 62ms/step - loss: 0.0016 - accuracy: 1.0000 - val_loss: 0.1947 - val_accuracy: 0.9250\n",
            "Epoch 77/100\n",
            "5/5 [==============================] - 0s 65ms/step - loss: 0.0022 - accuracy: 1.0000 - val_loss: 0.2111 - val_accuracy: 0.9250\n",
            "Epoch 78/100\n",
            "5/5 [==============================] - 0s 65ms/step - loss: 0.0019 - accuracy: 1.0000 - val_loss: 0.1806 - val_accuracy: 0.9500\n",
            "Epoch 79/100\n",
            "5/5 [==============================] - 0s 63ms/step - loss: 0.0025 - accuracy: 1.0000 - val_loss: 0.1939 - val_accuracy: 0.9500\n",
            "Epoch 80/100\n",
            "5/5 [==============================] - 0s 65ms/step - loss: 0.0015 - accuracy: 1.0000 - val_loss: 0.2026 - val_accuracy: 0.9250\n",
            "Epoch 81/100\n",
            "5/5 [==============================] - 0s 69ms/step - loss: 0.0017 - accuracy: 1.0000 - val_loss: 0.1708 - val_accuracy: 0.9500\n",
            "Epoch 82/100\n",
            "5/5 [==============================] - 0s 66ms/step - loss: 0.0021 - accuracy: 1.0000 - val_loss: 0.1742 - val_accuracy: 0.9500\n",
            "Epoch 83/100\n",
            "5/5 [==============================] - 0s 67ms/step - loss: 0.0015 - accuracy: 1.0000 - val_loss: 0.2444 - val_accuracy: 0.9000\n",
            "Epoch 84/100\n",
            "5/5 [==============================] - 0s 66ms/step - loss: 0.0032 - accuracy: 1.0000 - val_loss: 0.1722 - val_accuracy: 0.9500\n",
            "Epoch 85/100\n",
            "5/5 [==============================] - 0s 63ms/step - loss: 0.0019 - accuracy: 1.0000 - val_loss: 0.1623 - val_accuracy: 0.9500\n",
            "Epoch 86/100\n",
            "5/5 [==============================] - 0s 69ms/step - loss: 0.0060 - accuracy: 1.0000 - val_loss: 0.2574 - val_accuracy: 0.9250\n",
            "Epoch 87/100\n",
            "5/5 [==============================] - 0s 82ms/step - loss: 0.0043 - accuracy: 1.0000 - val_loss: 0.2676 - val_accuracy: 0.9250\n",
            "Epoch 88/100\n",
            "5/5 [==============================] - 0s 61ms/step - loss: 0.0021 - accuracy: 1.0000 - val_loss: 0.1758 - val_accuracy: 0.9500\n",
            "Epoch 89/100\n",
            "5/5 [==============================] - 0s 66ms/step - loss: 0.0038 - accuracy: 1.0000 - val_loss: 0.1925 - val_accuracy: 0.9500\n",
            "Epoch 90/100\n",
            "5/5 [==============================] - 0s 62ms/step - loss: 0.0019 - accuracy: 1.0000 - val_loss: 0.3099 - val_accuracy: 0.9000\n",
            "Epoch 91/100\n",
            "5/5 [==============================] - 0s 63ms/step - loss: 0.0069 - accuracy: 1.0000 - val_loss: 0.1443 - val_accuracy: 0.9500\n",
            "Epoch 92/100\n",
            "5/5 [==============================] - 0s 62ms/step - loss: 0.0044 - accuracy: 1.0000 - val_loss: 0.1457 - val_accuracy: 0.9250\n",
            "Epoch 93/100\n",
            "5/5 [==============================] - 0s 65ms/step - loss: 0.0023 - accuracy: 1.0000 - val_loss: 0.1491 - val_accuracy: 0.9500\n",
            "Epoch 94/100\n",
            "5/5 [==============================] - 0s 63ms/step - loss: 0.0017 - accuracy: 1.0000 - val_loss: 0.1874 - val_accuracy: 0.9500\n",
            "Epoch 95/100\n",
            "5/5 [==============================] - 0s 66ms/step - loss: 0.0040 - accuracy: 1.0000 - val_loss: 0.1577 - val_accuracy: 0.9500\n",
            "Epoch 96/100\n",
            "5/5 [==============================] - 0s 65ms/step - loss: 0.0021 - accuracy: 1.0000 - val_loss: 0.1701 - val_accuracy: 0.9500\n",
            "Epoch 97/100\n",
            "5/5 [==============================] - 0s 66ms/step - loss: 0.0031 - accuracy: 1.0000 - val_loss: 0.2258 - val_accuracy: 0.9250\n",
            "Epoch 98/100\n",
            "5/5 [==============================] - 0s 77ms/step - loss: 6.6271e-04 - accuracy: 1.0000 - val_loss: 0.2427 - val_accuracy: 0.9250\n",
            "Epoch 99/100\n",
            "5/5 [==============================] - 0s 76ms/step - loss: 0.0010 - accuracy: 1.0000 - val_loss: 0.2136 - val_accuracy: 0.9250\n",
            "Epoch 100/100\n",
            "5/5 [==============================] - 0s 71ms/step - loss: 6.8893e-04 - accuracy: 1.0000 - val_loss: 0.1927 - val_accuracy: 0.9500\n"
          ]
        }
      ]
    },
    {
      "cell_type": "code",
      "metadata": {
        "id": "MbwZiFYgkgKT",
        "outputId": "71f7ef2a-1018-4640-818d-5d9ea7baa606"
      },
      "source": [
        "N = np.arange(0, max_epochs)\n",
        "plt.style.use(\"ggplot\")\n",
        "plt.figure()\n",
        "plt.plot(N, H.history[\"loss\"], label=\"train_loss\")\n",
        "plt.plot(N, H.history[\"val_loss\"], label=\"val_loss\")\n",
        "#plt.plot(N, H.history[\"accuracy\"], label=\"train_acc\")\n",
        "#plt.plot(N, H.history[\"val_accuracy\"], label=\"val_acc\")\n",
        "plt.xlabel(\"Epoch #\")\n",
        "plt.legend()\n",
        "plt.show()"
      ],
      "execution_count": null,
      "outputs": [
        {
          "data": {
            "image/png": "[encoded data removed]",
            "text/plain": [
              "<Figure size 432x288 with 1 Axes>"
            ]
          },
          "metadata": {},
          "output_type": "display_data"
        }
      ]
    },
    {
      "cell_type": "markdown",
      "metadata": {
        "id": "SgdL4oQ9kgKT"
      },
      "source": [
        "<h3>7. Evaluate the Model</h3>"
      ]
    },
    {
      "cell_type": "code",
      "metadata": {
        "id": "LbgeqAHFkgKU",
        "outputId": "fc1dbf39-e1a0-491d-ff2b-c517d4cca611"
      },
      "source": [
        "# menghitung nilai akurasi model terhadap data test\n",
        "predictions = model.predict(x_test, batch_size=32)\n",
        "target = (predictions > 0.5).astype(np.int)\n",
        "print(classification_report(y_test, target, target_names=label_list))"
      ],
      "execution_count": null,
      "outputs": [
        {
          "name": "stdout",
          "output_type": "stream",
          "text": [
            "              precision    recall  f1-score   support\n",
            "\n",
            "    elephant       0.95      0.95      0.95        21\n",
            "        lion       0.95      0.95      0.95        19\n",
            "\n",
            "    accuracy                           0.95        40\n",
            "   macro avg       0.95      0.95      0.95        40\n",
            "weighted avg       0.95      0.95      0.95        40\n",
            "\n"
          ]
        }
      ]
    },
    {
      "cell_type": "code",
      "metadata": {
        "id": "rxYi8ICnkgKU",
        "outputId": "28049a39-d763-467b-f174-2eb757d954a7"
      },
      "source": [
        "# uji model menggunakan image lain\n",
        "queryPath = imagePaths+'query_lion.jpg'\n",
        "query = cv2.imread(queryPath)\n",
        "output = query.copy()\n",
        "query = cv2.resize(query, (32, 32))\n",
        "q = []\n",
        "q.append(query)\n",
        "q = np.array(q, dtype='float') / 255.0\n",
        "\n",
        "q_pred = model.predict(q)\n",
        "print(q_pred)"
      ],
      "execution_count": null,
      "outputs": [
        {
          "name": "stdout",
          "output_type": "stream",
          "text": [
            "[[0.9999999]]\n"
          ]
        }
      ]
    },
    {
      "cell_type": "code",
      "metadata": {
        "id": "jaavfy9okgKV"
      },
      "source": [
        "if q_pred<=0.5 :\n",
        "    target = \"Elephant\"\n",
        "else :\n",
        "    target = \"Lion\"\n",
        "text = \"{}\".format(target)\n",
        "cv2.putText(output, text, (10, 30), cv2.FONT_HERSHEY_SIMPLEX, 0.7, (0, 0, 255), 2)\n",
        " \n",
        "# menampilkan output image\n",
        "cv2.imshow('Output', output)\n",
        "cv2.waitKey() # image tidak akan diclose,sebelum user menekan sembarang tombol\n",
        "cv2.destroyWindow('Output') # image akan diclose"
      ],
      "execution_count": null,
      "outputs": []
    },
    {
      "cell_type": "code",
      "metadata": {
        "id": "qgDklmp4kgKV"
      },
      "source": [
        ""
      ],
      "execution_count": null,
      "outputs": []
    }
  ]
}