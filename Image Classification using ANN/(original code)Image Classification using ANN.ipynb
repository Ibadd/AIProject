{
 "cells": [
  {
   "cell_type": "markdown",
   "metadata": {},
   "source": [
    "<h3>1. Import module yang dibutuhkan</h3>"
   ]
  },
  {
   "cell_type": "code",
   "execution_count": 1,
   "metadata": {},
   "outputs": [],
   "source": [
    "from sklearn.model_selection import train_test_split\n",
    "from sklearn.preprocessing import LabelEncoder\n",
    "from sklearn.metrics import classification_report\n",
    "from tensorflow.keras.models import Sequential\n",
    "from tensorflow.keras.layers import Flatten, Dense\n",
    "from tensorflow.keras.optimizers import SGD\n",
    "import numpy as np\n",
    "import cv2\n",
    "import glob\n",
    "import matplotlib.pyplot as plt"
   ]
  },
  {
   "cell_type": "markdown",
   "metadata": {},
   "source": [
    "<h3>2. Load Dataset</h3>"
   ]
  },
  {
   "cell_type": "code",
   "execution_count": 2,
   "metadata": {},
   "outputs": [],
   "source": [
    "imagePaths = 'dataset\\\\animal_elw\\\\'\n",
    "label_list = ['elephant', 'lion']\n",
    "data = []\n",
    "labels = []"
   ]
  },
  {
   "cell_type": "code",
   "execution_count": 3,
   "metadata": {},
   "outputs": [],
   "source": [
    "for label in label_list:\n",
    "    for imagePath in glob.glob(imagePaths+label+'\\\\*.jpg'):\n",
    "        #print(imagePath)\n",
    "        image = cv2.imread(imagePath)\n",
    "        image = cv2.resize(image, (32, 32))\n",
    "        data.append(image)\n",
    "        labels.append(label)"
   ]
  },
  {
   "cell_type": "code",
   "execution_count": 4,
   "metadata": {},
   "outputs": [
    {
     "data": {
      "text/plain": [
       "(200, 32, 32, 3)"
      ]
     },
     "execution_count": 4,
     "metadata": {},
     "output_type": "execute_result"
    }
   ],
   "source": [
    "np.array(data).shape"
   ]
  },
  {
   "cell_type": "markdown",
   "metadata": {},
   "source": [
    "<h3>3. Data Preprocessing</h3>"
   ]
  },
  {
   "cell_type": "code",
   "execution_count": 5,
   "metadata": {},
   "outputs": [],
   "source": [
    "# ubah type data dari list menjadi array\n",
    "# ubah nilai dari tiap pixel menjadi range [0..1]\n",
    "data = np.array(data, dtype='float') / 255.0\n",
    "labels = np.array(labels)"
   ]
  },
  {
   "cell_type": "code",
   "execution_count": 6,
   "metadata": {},
   "outputs": [
    {
     "name": "stdout",
     "output_type": "stream",
     "text": [
      "['elephant' 'elephant' 'elephant' 'elephant' 'elephant' 'elephant'\n",
      " 'elephant' 'elephant' 'elephant' 'elephant' 'elephant' 'elephant'\n",
      " 'elephant' 'elephant' 'elephant' 'elephant' 'elephant' 'elephant'\n",
      " 'elephant' 'elephant' 'elephant' 'elephant' 'elephant' 'elephant'\n",
      " 'elephant' 'elephant' 'elephant' 'elephant' 'elephant' 'elephant'\n",
      " 'elephant' 'elephant' 'elephant' 'elephant' 'elephant' 'elephant'\n",
      " 'elephant' 'elephant' 'elephant' 'elephant' 'elephant' 'elephant'\n",
      " 'elephant' 'elephant' 'elephant' 'elephant' 'elephant' 'elephant'\n",
      " 'elephant' 'elephant' 'elephant' 'elephant' 'elephant' 'elephant'\n",
      " 'elephant' 'elephant' 'elephant' 'elephant' 'elephant' 'elephant'\n",
      " 'elephant' 'elephant' 'elephant' 'elephant' 'elephant' 'elephant'\n",
      " 'elephant' 'elephant' 'elephant' 'elephant' 'elephant' 'elephant'\n",
      " 'elephant' 'elephant' 'elephant' 'elephant' 'elephant' 'elephant'\n",
      " 'elephant' 'elephant' 'elephant' 'elephant' 'elephant' 'elephant'\n",
      " 'elephant' 'elephant' 'elephant' 'elephant' 'elephant' 'elephant'\n",
      " 'elephant' 'elephant' 'elephant' 'elephant' 'elephant' 'elephant'\n",
      " 'elephant' 'elephant' 'elephant' 'elephant' 'lion' 'lion' 'lion' 'lion'\n",
      " 'lion' 'lion' 'lion' 'lion' 'lion' 'lion' 'lion' 'lion' 'lion' 'lion'\n",
      " 'lion' 'lion' 'lion' 'lion' 'lion' 'lion' 'lion' 'lion' 'lion' 'lion'\n",
      " 'lion' 'lion' 'lion' 'lion' 'lion' 'lion' 'lion' 'lion' 'lion' 'lion'\n",
      " 'lion' 'lion' 'lion' 'lion' 'lion' 'lion' 'lion' 'lion' 'lion' 'lion'\n",
      " 'lion' 'lion' 'lion' 'lion' 'lion' 'lion' 'lion' 'lion' 'lion' 'lion'\n",
      " 'lion' 'lion' 'lion' 'lion' 'lion' 'lion' 'lion' 'lion' 'lion' 'lion'\n",
      " 'lion' 'lion' 'lion' 'lion' 'lion' 'lion' 'lion' 'lion' 'lion' 'lion'\n",
      " 'lion' 'lion' 'lion' 'lion' 'lion' 'lion' 'lion' 'lion' 'lion' 'lion'\n",
      " 'lion' 'lion' 'lion' 'lion' 'lion' 'lion' 'lion' 'lion' 'lion' 'lion'\n",
      " 'lion' 'lion' 'lion' 'lion' 'lion' 'lion']\n"
     ]
    }
   ],
   "source": [
    "print(labels)"
   ]
  },
  {
   "cell_type": "code",
   "execution_count": 7,
   "metadata": {},
   "outputs": [
    {
     "name": "stdout",
     "output_type": "stream",
     "text": [
      "[0 0 0 0 0 0 0 0 0 0 0 0 0 0 0 0 0 0 0 0 0 0 0 0 0 0 0 0 0 0 0 0 0 0 0 0 0\n",
      " 0 0 0 0 0 0 0 0 0 0 0 0 0 0 0 0 0 0 0 0 0 0 0 0 0 0 0 0 0 0 0 0 0 0 0 0 0\n",
      " 0 0 0 0 0 0 0 0 0 0 0 0 0 0 0 0 0 0 0 0 0 0 0 0 0 0 1 1 1 1 1 1 1 1 1 1 1\n",
      " 1 1 1 1 1 1 1 1 1 1 1 1 1 1 1 1 1 1 1 1 1 1 1 1 1 1 1 1 1 1 1 1 1 1 1 1 1\n",
      " 1 1 1 1 1 1 1 1 1 1 1 1 1 1 1 1 1 1 1 1 1 1 1 1 1 1 1 1 1 1 1 1 1 1 1 1 1\n",
      " 1 1 1 1 1 1 1 1 1 1 1 1 1 1 1]\n"
     ]
    }
   ],
   "source": [
    "# ubah nilai dari labels menjadi binary\n",
    "lb = LabelEncoder()\n",
    "labels = lb.fit_transform(labels)\n",
    "print(labels)"
   ]
  },
  {
   "cell_type": "markdown",
   "metadata": {},
   "source": [
    "<h3>4. Split Dataset</h3>"
   ]
  },
  {
   "cell_type": "code",
   "execution_count": 8,
   "metadata": {},
   "outputs": [],
   "source": [
    "x_train, x_test, y_train, y_test = train_test_split(data, labels, test_size=0.2, random_state=42)"
   ]
  },
  {
   "cell_type": "code",
   "execution_count": 9,
   "metadata": {},
   "outputs": [
    {
     "name": "stdout",
     "output_type": "stream",
     "text": [
      "Ukuran data train = (160, 32, 32, 3)\n",
      "Ukuran data test = (40, 32, 32, 3)\n"
     ]
    }
   ],
   "source": [
    "print('Ukuran data train =', x_train.shape)\n",
    "print('Ukuran data test =', x_test.shape)"
   ]
  },
  {
   "cell_type": "markdown",
   "metadata": {},
   "source": [
    "<h3>5. Build ANN Architecture</h3>"
   ]
  },
  {
   "cell_type": "code",
   "execution_count": 22,
   "metadata": {},
   "outputs": [],
   "source": [
    "model = Sequential()\n",
    "model.add(Flatten(input_shape=(32,32,3)))\n",
    "model.add(Dense(1024, activation=\"relu\"))\n",
    "model.add(Dense(1024, activation=\"relu\"))\n",
    "model.add(Dense(1, activation=\"sigmoid\"))"
   ]
  },
  {
   "cell_type": "code",
   "execution_count": 23,
   "metadata": {},
   "outputs": [
    {
     "name": "stdout",
     "output_type": "stream",
     "text": [
      "Model: \"sequential_1\"\n",
      "_________________________________________________________________\n",
      "Layer (type)                 Output Shape              Param #   \n",
      "=================================================================\n",
      "flatten_1 (Flatten)          (None, 3072)              0         \n",
      "_________________________________________________________________\n",
      "dense_3 (Dense)              (None, 1024)              3146752   \n",
      "_________________________________________________________________\n",
      "dense_4 (Dense)              (None, 1024)              1049600   \n",
      "_________________________________________________________________\n",
      "dense_5 (Dense)              (None, 1)                 1025      \n",
      "=================================================================\n",
      "Total params: 4,197,377\n",
      "Trainable params: 4,197,377\n",
      "Non-trainable params: 0\n",
      "_________________________________________________________________\n"
     ]
    }
   ],
   "source": [
    "model.summary()"
   ]
  },
  {
   "cell_type": "code",
   "execution_count": 24,
   "metadata": {},
   "outputs": [],
   "source": [
    "# tentukan hyperparameter\n",
    "lr = 0.01\n",
    "max_epochs = 100\n",
    "opt_funct = SGD(learning_rate=lr)"
   ]
  },
  {
   "cell_type": "code",
   "execution_count": 25,
   "metadata": {},
   "outputs": [],
   "source": [
    "# compile arsitektur yang telah dibuat\n",
    "model.compile(loss = 'binary_crossentropy', \n",
    "              optimizer = opt_funct, \n",
    "              metrics = ['accuracy'])"
   ]
  },
  {
   "cell_type": "markdown",
   "metadata": {},
   "source": [
    "<h3>6. Train Model</h3>"
   ]
  },
  {
   "cell_type": "code",
   "execution_count": 26,
   "metadata": {},
   "outputs": [
    {
     "name": "stdout",
     "output_type": "stream",
     "text": [
      "Epoch 1/100\n",
      "5/5 [==============================] - 1s 108ms/step - loss: 0.8005 - accuracy: 0.4462 - val_loss: 0.6603 - val_accuracy: 0.6750\n",
      "Epoch 2/100\n",
      "5/5 [==============================] - 0s 58ms/step - loss: 0.6565 - accuracy: 0.7293 - val_loss: 0.6114 - val_accuracy: 0.7750\n",
      "Epoch 3/100\n",
      "5/5 [==============================] - 0s 61ms/step - loss: 0.6046 - accuracy: 0.7095 - val_loss: 0.5829 - val_accuracy: 0.7750\n",
      "Epoch 4/100\n",
      "5/5 [==============================] - 0s 56ms/step - loss: 0.5781 - accuracy: 0.7148 - val_loss: 0.5709 - val_accuracy: 0.7750\n",
      "Epoch 5/100\n",
      "5/5 [==============================] - 0s 70ms/step - loss: 0.5571 - accuracy: 0.7809 - val_loss: 0.5882 - val_accuracy: 0.5500\n",
      "Epoch 6/100\n",
      "5/5 [==============================] - 0s 57ms/step - loss: 0.6185 - accuracy: 0.6077 - val_loss: 0.5712 - val_accuracy: 0.7250\n",
      "Epoch 7/100\n",
      "5/5 [==============================] - 0s 58ms/step - loss: 0.5120 - accuracy: 0.8251 - val_loss: 0.5709 - val_accuracy: 0.7250\n",
      "Epoch 8/100\n",
      "5/5 [==============================] - 0s 54ms/step - loss: 0.4939 - accuracy: 0.8462 - val_loss: 0.5196 - val_accuracy: 0.8000\n",
      "Epoch 9/100\n",
      "5/5 [==============================] - 0s 53ms/step - loss: 0.4818 - accuracy: 0.8235 - val_loss: 0.5082 - val_accuracy: 0.7250\n",
      "Epoch 10/100\n",
      "5/5 [==============================] - 0s 53ms/step - loss: 0.4584 - accuracy: 0.8216 - val_loss: 0.5390 - val_accuracy: 0.7250\n",
      "Epoch 11/100\n",
      "5/5 [==============================] - 0s 55ms/step - loss: 0.4944 - accuracy: 0.8282 - val_loss: 0.5938 - val_accuracy: 0.6750\n",
      "Epoch 12/100\n",
      "5/5 [==============================] - 0s 67ms/step - loss: 0.4642 - accuracy: 0.8188 - val_loss: 0.4983 - val_accuracy: 0.8250\n",
      "Epoch 13/100\n",
      "5/5 [==============================] - 0s 55ms/step - loss: 0.5671 - accuracy: 0.7432 - val_loss: 0.5057 - val_accuracy: 0.7500\n",
      "Epoch 14/100\n",
      "5/5 [==============================] - 0s 52ms/step - loss: 0.4368 - accuracy: 0.8662 - val_loss: 0.5204 - val_accuracy: 0.7750\n",
      "Epoch 15/100\n",
      "5/5 [==============================] - 0s 62ms/step - loss: 0.4317 - accuracy: 0.8503 - val_loss: 0.4810 - val_accuracy: 0.8250\n",
      "Epoch 16/100\n",
      "5/5 [==============================] - 0s 51ms/step - loss: 0.4635 - accuracy: 0.7636 - val_loss: 0.4647 - val_accuracy: 0.7750\n",
      "Epoch 17/100\n",
      "5/5 [==============================] - 0s 55ms/step - loss: 0.4661 - accuracy: 0.8260 - val_loss: 0.6674 - val_accuracy: 0.5750\n",
      "Epoch 18/100\n",
      "5/5 [==============================] - 0s 54ms/step - loss: 0.5277 - accuracy: 0.7720 - val_loss: 0.4784 - val_accuracy: 0.8000\n",
      "Epoch 19/100\n",
      "5/5 [==============================] - 0s 54ms/step - loss: 0.3805 - accuracy: 0.8886 - val_loss: 0.4592 - val_accuracy: 0.8500\n",
      "Epoch 20/100\n",
      "5/5 [==============================] - 0s 57ms/step - loss: 0.3506 - accuracy: 0.9219 - val_loss: 0.4561 - val_accuracy: 0.8000\n",
      "Epoch 21/100\n",
      "5/5 [==============================] - 0s 54ms/step - loss: 0.4402 - accuracy: 0.7830 - val_loss: 0.4485 - val_accuracy: 0.8500\n",
      "Epoch 22/100\n",
      "5/5 [==============================] - 0s 52ms/step - loss: 0.3912 - accuracy: 0.8571 - val_loss: 0.4742 - val_accuracy: 0.8250\n",
      "Epoch 23/100\n",
      "5/5 [==============================] - 0s 55ms/step - loss: 0.5822 - accuracy: 0.6628 - val_loss: 0.4413 - val_accuracy: 0.8000\n",
      "Epoch 24/100\n",
      "5/5 [==============================] - 0s 56ms/step - loss: 0.3480 - accuracy: 0.8984 - val_loss: 0.4588 - val_accuracy: 0.7250\n",
      "Epoch 25/100\n",
      "5/5 [==============================] - 0s 56ms/step - loss: 0.3398 - accuracy: 0.8937 - val_loss: 0.4934 - val_accuracy: 0.7250\n",
      "Epoch 26/100\n",
      "5/5 [==============================] - 0s 57ms/step - loss: 0.3303 - accuracy: 0.9049 - val_loss: 0.4459 - val_accuracy: 0.7750\n",
      "Epoch 27/100\n",
      "5/5 [==============================] - 0s 55ms/step - loss: 0.3569 - accuracy: 0.8784 - val_loss: 0.4561 - val_accuracy: 0.7500\n",
      "Epoch 28/100\n",
      "5/5 [==============================] - 0s 57ms/step - loss: 0.3120 - accuracy: 0.9139 - val_loss: 0.4174 - val_accuracy: 0.8000\n",
      "Epoch 29/100\n",
      "5/5 [==============================] - 0s 55ms/step - loss: 0.3281 - accuracy: 0.9190 - val_loss: 0.4178 - val_accuracy: 0.7750\n",
      "Epoch 30/100\n",
      "5/5 [==============================] - 0s 65ms/step - loss: 0.4134 - accuracy: 0.8119 - val_loss: 0.5184 - val_accuracy: 0.7250\n",
      "Epoch 31/100\n",
      "5/5 [==============================] - 0s 54ms/step - loss: 0.2901 - accuracy: 0.9233 - val_loss: 0.4078 - val_accuracy: 0.8250\n",
      "Epoch 32/100\n",
      "5/5 [==============================] - 0s 62ms/step - loss: 0.3304 - accuracy: 0.8885 - val_loss: 0.4058 - val_accuracy: 0.8000\n",
      "Epoch 33/100\n",
      "5/5 [==============================] - 0s 61ms/step - loss: 0.2783 - accuracy: 0.9243 - val_loss: 0.5113 - val_accuracy: 0.7250\n",
      "Epoch 34/100\n",
      "5/5 [==============================] - 0s 54ms/step - loss: 0.4657 - accuracy: 0.7517 - val_loss: 0.4150 - val_accuracy: 0.8000\n",
      "Epoch 35/100\n",
      "5/5 [==============================] - 0s 53ms/step - loss: 0.3001 - accuracy: 0.9264 - val_loss: 0.3985 - val_accuracy: 0.8250\n",
      "Epoch 36/100\n",
      "5/5 [==============================] - 0s 54ms/step - loss: 0.2536 - accuracy: 0.9470 - val_loss: 0.3964 - val_accuracy: 0.8000\n",
      "Epoch 37/100\n",
      "5/5 [==============================] - 0s 65ms/step - loss: 0.2998 - accuracy: 0.8828 - val_loss: 0.3929 - val_accuracy: 0.8250\n",
      "Epoch 38/100\n",
      "5/5 [==============================] - 0s 52ms/step - loss: 0.2416 - accuracy: 0.9517 - val_loss: 0.4066 - val_accuracy: 0.7500\n",
      "Epoch 39/100\n",
      "5/5 [==============================] - 0s 54ms/step - loss: 0.2636 - accuracy: 0.9289 - val_loss: 0.5148 - val_accuracy: 0.8000\n",
      "Epoch 40/100\n",
      "5/5 [==============================] - 0s 52ms/step - loss: 0.4228 - accuracy: 0.7707 - val_loss: 0.4469 - val_accuracy: 0.8250\n",
      "Epoch 41/100\n",
      "5/5 [==============================] - 0s 51ms/step - loss: 0.2575 - accuracy: 0.9135 - val_loss: 0.5229 - val_accuracy: 0.7000\n",
      "Epoch 42/100\n",
      "5/5 [==============================] - 0s 53ms/step - loss: 0.2886 - accuracy: 0.8911 - val_loss: 0.4168 - val_accuracy: 0.7750\n",
      "Epoch 43/100\n",
      "5/5 [==============================] - 0s 53ms/step - loss: 0.3182 - accuracy: 0.8497 - val_loss: 0.3800 - val_accuracy: 0.8250\n",
      "Epoch 44/100\n",
      "5/5 [==============================] - 0s 52ms/step - loss: 0.2281 - accuracy: 0.9685 - val_loss: 0.3741 - val_accuracy: 0.8250\n",
      "Epoch 45/100\n",
      "5/5 [==============================] - 0s 52ms/step - loss: 0.2118 - accuracy: 0.9728 - val_loss: 0.3921 - val_accuracy: 0.7750\n",
      "Epoch 46/100\n",
      "5/5 [==============================] - 0s 55ms/step - loss: 0.2344 - accuracy: 0.9425 - val_loss: 0.3744 - val_accuracy: 0.8250\n",
      "Epoch 47/100\n",
      "5/5 [==============================] - 0s 55ms/step - loss: 0.2956 - accuracy: 0.8766 - val_loss: 0.4200 - val_accuracy: 0.7750\n",
      "Epoch 48/100\n",
      "5/5 [==============================] - 0s 53ms/step - loss: 0.2274 - accuracy: 0.9446 - val_loss: 0.4510 - val_accuracy: 0.7750\n",
      "Epoch 49/100\n",
      "5/5 [==============================] - 0s 53ms/step - loss: 0.3004 - accuracy: 0.8735 - val_loss: 0.4545 - val_accuracy: 0.8250\n",
      "Epoch 50/100\n",
      "5/5 [==============================] - 0s 54ms/step - loss: 0.3218 - accuracy: 0.8524 - val_loss: 0.3591 - val_accuracy: 0.8500\n",
      "Epoch 51/100\n",
      "5/5 [==============================] - 0s 55ms/step - loss: 0.2057 - accuracy: 0.9620 - val_loss: 0.3728 - val_accuracy: 0.8250\n",
      "Epoch 52/100\n",
      "5/5 [==============================] - 0s 63ms/step - loss: 0.3139 - accuracy: 0.8314 - val_loss: 0.4309 - val_accuracy: 0.7750\n",
      "Epoch 53/100\n",
      "5/5 [==============================] - 0s 52ms/step - loss: 0.2187 - accuracy: 0.9503 - val_loss: 0.3585 - val_accuracy: 0.8250\n",
      "Epoch 54/100\n",
      "5/5 [==============================] - 0s 48ms/step - loss: 0.2407 - accuracy: 0.9135 - val_loss: 0.3661 - val_accuracy: 0.8250\n",
      "Epoch 55/100\n",
      "5/5 [==============================] - 0s 48ms/step - loss: 0.1857 - accuracy: 0.9569 - val_loss: 0.3480 - val_accuracy: 0.8500\n",
      "Epoch 56/100\n",
      "5/5 [==============================] - 0s 50ms/step - loss: 0.1778 - accuracy: 0.9671 - val_loss: 0.4048 - val_accuracy: 0.7750\n",
      "Epoch 57/100\n",
      "5/5 [==============================] - 0s 49ms/step - loss: 0.1870 - accuracy: 0.9455 - val_loss: 0.3601 - val_accuracy: 0.8500\n",
      "Epoch 58/100\n",
      "5/5 [==============================] - 0s 48ms/step - loss: 0.1913 - accuracy: 0.9357 - val_loss: 0.3833 - val_accuracy: 0.7750\n",
      "Epoch 59/100\n"
     ]
    },
    {
     "name": "stdout",
     "output_type": "stream",
     "text": [
      "5/5 [==============================] - 0s 52ms/step - loss: 0.1993 - accuracy: 0.9579 - val_loss: 0.3528 - val_accuracy: 0.8250\n",
      "Epoch 60/100\n",
      "5/5 [==============================] - 0s 50ms/step - loss: 0.1816 - accuracy: 0.9589 - val_loss: 0.3553 - val_accuracy: 0.8500\n",
      "Epoch 61/100\n",
      "5/5 [==============================] - 0s 49ms/step - loss: 0.1734 - accuracy: 0.9404 - val_loss: 0.3350 - val_accuracy: 0.8250\n",
      "Epoch 62/100\n",
      "5/5 [==============================] - 0s 50ms/step - loss: 0.1625 - accuracy: 0.9655 - val_loss: 0.3400 - val_accuracy: 0.8750\n",
      "Epoch 63/100\n",
      "5/5 [==============================] - 0s 49ms/step - loss: 0.1874 - accuracy: 0.9291 - val_loss: 0.4120 - val_accuracy: 0.8250\n",
      "Epoch 64/100\n",
      "5/5 [==============================] - 0s 51ms/step - loss: 0.2791 - accuracy: 0.8347 - val_loss: 0.3781 - val_accuracy: 0.7750\n",
      "Epoch 65/100\n",
      "5/5 [==============================] - 0s 51ms/step - loss: 0.2499 - accuracy: 0.8979 - val_loss: 0.7387 - val_accuracy: 0.6750\n",
      "Epoch 66/100\n",
      "5/5 [==============================] - 0s 52ms/step - loss: 0.7732 - accuracy: 0.6115 - val_loss: 0.5938 - val_accuracy: 0.7250\n",
      "Epoch 67/100\n",
      "5/5 [==============================] - 0s 51ms/step - loss: 0.2445 - accuracy: 0.8940 - val_loss: 0.3384 - val_accuracy: 0.8500\n",
      "Epoch 68/100\n",
      "5/5 [==============================] - 0s 51ms/step - loss: 0.1699 - accuracy: 0.9610 - val_loss: 0.3397 - val_accuracy: 0.8250\n",
      "Epoch 69/100\n",
      "5/5 [==============================] - 0s 49ms/step - loss: 0.1472 - accuracy: 0.9691 - val_loss: 0.3515 - val_accuracy: 0.8250\n",
      "Epoch 70/100\n",
      "5/5 [==============================] - 0s 57ms/step - loss: 0.1417 - accuracy: 0.9754 - val_loss: 0.3351 - val_accuracy: 0.8250\n",
      "Epoch 71/100\n",
      "5/5 [==============================] - 0s 63ms/step - loss: 0.1274 - accuracy: 0.9688 - val_loss: 0.3259 - val_accuracy: 0.8750\n",
      "Epoch 72/100\n",
      "5/5 [==============================] - 0s 50ms/step - loss: 0.1819 - accuracy: 0.9424 - val_loss: 0.5597 - val_accuracy: 0.8000\n",
      "Epoch 73/100\n",
      "5/5 [==============================] - 0s 50ms/step - loss: 0.2094 - accuracy: 0.9222 - val_loss: 0.3448 - val_accuracy: 0.8750\n",
      "Epoch 74/100\n",
      "5/5 [==============================] - 0s 61ms/step - loss: 0.1348 - accuracy: 0.9588 - val_loss: 0.3876 - val_accuracy: 0.7750\n",
      "Epoch 75/100\n",
      "5/5 [==============================] - 0s 50ms/step - loss: 0.1601 - accuracy: 0.9645 - val_loss: 0.5978 - val_accuracy: 0.7500\n",
      "Epoch 76/100\n",
      "5/5 [==============================] - 0s 50ms/step - loss: 0.2449 - accuracy: 0.9080 - val_loss: 0.3194 - val_accuracy: 0.8750\n",
      "Epoch 77/100\n",
      "5/5 [==============================] - 0s 63ms/step - loss: 0.1308 - accuracy: 0.9742 - val_loss: 0.3635 - val_accuracy: 0.8000\n",
      "Epoch 78/100\n",
      "5/5 [==============================] - 0s 52ms/step - loss: 0.1000 - accuracy: 0.9894 - val_loss: 0.3976 - val_accuracy: 0.8000\n",
      "Epoch 79/100\n",
      "5/5 [==============================] - 0s 55ms/step - loss: 0.1510 - accuracy: 0.9613 - val_loss: 0.3382 - val_accuracy: 0.8250\n",
      "Epoch 80/100\n",
      "5/5 [==============================] - 0s 51ms/step - loss: 0.1089 - accuracy: 0.9742 - val_loss: 0.3815 - val_accuracy: 0.7750\n",
      "Epoch 81/100\n",
      "5/5 [==============================] - 0s 69ms/step - loss: 0.1443 - accuracy: 0.9641 - val_loss: 0.3100 - val_accuracy: 0.8500\n",
      "Epoch 82/100\n",
      "5/5 [==============================] - 0s 66ms/step - loss: 0.1163 - accuracy: 1.0000 - val_loss: 0.3226 - val_accuracy: 0.8250\n",
      "Epoch 83/100\n",
      "5/5 [==============================] - 0s 53ms/step - loss: 0.1109 - accuracy: 0.9689 - val_loss: 0.3515 - val_accuracy: 0.8750\n",
      "Epoch 84/100\n",
      "5/5 [==============================] - 0s 60ms/step - loss: 0.1372 - accuracy: 0.9630 - val_loss: 0.3541 - val_accuracy: 0.8000\n",
      "Epoch 85/100\n",
      "5/5 [==============================] - 0s 56ms/step - loss: 0.1087 - accuracy: 0.9843 - val_loss: 0.3037 - val_accuracy: 0.8750\n",
      "Epoch 86/100\n",
      "5/5 [==============================] - 0s 49ms/step - loss: 0.1170 - accuracy: 0.9793 - val_loss: 0.3054 - val_accuracy: 0.9000\n",
      "Epoch 87/100\n",
      "5/5 [==============================] - 0s 48ms/step - loss: 0.1230 - accuracy: 0.9610 - val_loss: 0.4628 - val_accuracy: 0.7750\n",
      "Epoch 88/100\n",
      "5/5 [==============================] - 0s 47ms/step - loss: 0.1985 - accuracy: 0.9279 - val_loss: 0.5949 - val_accuracy: 0.7750\n",
      "Epoch 89/100\n",
      "5/5 [==============================] - 0s 48ms/step - loss: 0.2251 - accuracy: 0.8583 - val_loss: 0.3032 - val_accuracy: 0.8500\n",
      "Epoch 90/100\n",
      "5/5 [==============================] - 0s 51ms/step - loss: 0.0894 - accuracy: 0.9928 - val_loss: 0.3346 - val_accuracy: 0.8250\n",
      "Epoch 91/100\n",
      "5/5 [==============================] - 0s 50ms/step - loss: 0.0993 - accuracy: 0.9932 - val_loss: 0.3207 - val_accuracy: 0.8250\n",
      "Epoch 92/100\n",
      "5/5 [==============================] - 0s 48ms/step - loss: 0.0837 - accuracy: 0.9966 - val_loss: 0.3335 - val_accuracy: 0.8250\n",
      "Epoch 93/100\n",
      "5/5 [==============================] - 0s 47ms/step - loss: 0.0837 - accuracy: 0.9845 - val_loss: 0.3014 - val_accuracy: 0.8750\n",
      "Epoch 94/100\n",
      "5/5 [==============================] - 0s 48ms/step - loss: 0.0858 - accuracy: 0.9923 - val_loss: 0.3094 - val_accuracy: 0.8500\n",
      "Epoch 95/100\n",
      "5/5 [==============================] - 0s 48ms/step - loss: 0.0861 - accuracy: 1.0000 - val_loss: 0.4095 - val_accuracy: 0.8000\n",
      "Epoch 96/100\n",
      "5/5 [==============================] - 0s 52ms/step - loss: 0.0792 - accuracy: 1.0000 - val_loss: 0.3258 - val_accuracy: 0.8250\n",
      "Epoch 97/100\n",
      "5/5 [==============================] - 0s 59ms/step - loss: 0.0914 - accuracy: 0.9898 - val_loss: 0.3275 - val_accuracy: 0.8250\n",
      "Epoch 98/100\n",
      "5/5 [==============================] - 0s 63ms/step - loss: 0.0725 - accuracy: 0.9979 - val_loss: 0.2973 - val_accuracy: 0.8750\n",
      "Epoch 99/100\n",
      "5/5 [==============================] - 0s 55ms/step - loss: 0.0777 - accuracy: 1.0000 - val_loss: 0.3468 - val_accuracy: 0.8250\n",
      "Epoch 100/100\n",
      "5/5 [==============================] - 0s 70ms/step - loss: 0.0826 - accuracy: 0.9949 - val_loss: 0.3122 - val_accuracy: 0.8250\n"
     ]
    }
   ],
   "source": [
    "H = model.fit(x_train, y_train, validation_data=(x_test, y_test), \n",
    "          epochs=max_epochs, batch_size=32)"
   ]
  },
  {
   "cell_type": "code",
   "execution_count": 27,
   "metadata": {},
   "outputs": [
    {
     "data": {
      "image/png": "[encoded data removed]",
      "text/plain": [
       "<Figure size 432x288 with 1 Axes>"
      ]
     },
     "metadata": {},
     "output_type": "display_data"
    }
   ],
   "source": [
    "N = np.arange(0, max_epochs)\n",
    "plt.style.use(\"ggplot\")\n",
    "plt.figure()\n",
    "plt.plot(N, H.history[\"loss\"], label=\"train_loss\")\n",
    "plt.plot(N, H.history[\"val_loss\"], label=\"val_loss\")\n",
    "#plt.plot(N, H.history[\"accuracy\"], label=\"train_acc\")\n",
    "#plt.plot(N, H.history[\"val_accuracy\"], label=\"val_acc\")\n",
    "plt.xlabel(\"Epoch #\")\n",
    "plt.legend()\n",
    "plt.show()"
   ]
  },
  {
   "cell_type": "markdown",
   "metadata": {},
   "source": [
    "<h3>7. Evaluate the Model</h3>"
   ]
  },
  {
   "cell_type": "code",
   "execution_count": 28,
   "metadata": {},
   "outputs": [
    {
     "name": "stdout",
     "output_type": "stream",
     "text": [
      "              precision    recall  f1-score   support\n",
      "\n",
      "    elephant       0.89      0.76      0.82        21\n",
      "        lion       0.77      0.89      0.83        19\n",
      "\n",
      "    accuracy                           0.82        40\n",
      "   macro avg       0.83      0.83      0.82        40\n",
      "weighted avg       0.83      0.82      0.82        40\n",
      "\n"
     ]
    }
   ],
   "source": [
    "# menghitung nilai akurasi model terhadap data test\n",
    "predictions = model.predict(x_test, batch_size=32)\n",
    "target = (predictions > 0.5).astype(np.int)\n",
    "print(classification_report(y_test, target, target_names=label_list))"
   ]
  },
  {
   "cell_type": "code",
   "execution_count": 32,
   "metadata": {},
   "outputs": [
    {
     "name": "stdout",
     "output_type": "stream",
     "text": [
      "[[0.6519713]]\n"
     ]
    }
   ],
   "source": [
    "# uji model menggunakan image lain\n",
    "queryPath = imagePaths+'query_lion.jpg'\n",
    "query = cv2.imread(queryPath)\n",
    "output = query.copy()\n",
    "query = cv2.resize(query, (32, 32))\n",
    "q = []\n",
    "q.append(query)\n",
    "q = np.array(q, dtype='float') / 255.0\n",
    "\n",
    "q_pred = model.predict(q)\n",
    "print(q_pred)"
   ]
  },
  {
   "cell_type": "code",
   "execution_count": 33,
   "metadata": {},
   "outputs": [],
   "source": [
    "if q_pred<=0.5 :\n",
    "    target = \"Elephant\"\n",
    "else :\n",
    "    target = \"Lion\"\n",
    "text = \"{}\".format(target)\n",
    "cv2.putText(output, text, (10, 30), cv2.FONT_HERSHEY_SIMPLEX, 0.7, (0, 0, 255), 2)\n",
    " \n",
    "# menampilkan output image\n",
    "cv2.imshow('Output', output)\n",
    "cv2.waitKey() # image tidak akan diclose,sebelum user menekan sembarang tombol\n",
    "cv2.destroyWindow('Output') # image akan diclose"
   ]
  },
  {
   "cell_type": "code",
   "execution_count": null,
   "metadata": {},
   "outputs": [],
   "source": []
  }
 ],
 "metadata": {
  "kernelspec": {
   "display_name": "Python 3",
   "language": "python",
   "name": "python3"
  },
  "language_info": {
   "codemirror_mode": {
    "name": "ipython",
    "version": 3
   },
   "file_extension": ".py",
   "mimetype": "text/x-python",
   "name": "python",
   "nbconvert_exporter": "python",
   "pygments_lexer": "ipython3",
   "version": "3.8.5"
  }
 },
 "nbformat": 4,
 "nbformat_minor": 4
}
