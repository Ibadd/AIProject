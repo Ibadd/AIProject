{
  "nbformat": 4,
  "nbformat_minor": 0,
  "metadata": {
    "colab": {
      "name": "Untitled10.ipynb",
      "provenance": [],
      "collapsed_sections": []
    },
    "kernelspec": {
      "name": "python3",
      "display_name": "Python 3"
    },
    "language_info": {
      "name": "python"
    }
  },
  "cells": [
    {
      "cell_type": "markdown",
      "metadata": {
        "id": "CruH1s5rqGRb"
      },
      "source": [
        ""
      ]
    },
    {
      "cell_type": "code",
      "metadata": {
        "id": "O7hqaLZlYKhe"
      },
      "source": [
        "from sklearn.model_selection import train_test_split\n",
        "from sklearn.preprocessing import LabelBinarizer\n",
        "from sklearn.metrics import classification_report\n",
        "from tensorflow.keras.models import Sequential\n",
        "from tensorflow.keras.layers import Dense\n",
        "from tensorflow.keras.optimizers import SGD\n",
        "import numpy as np\n",
        "import cv2\n",
        "import glob\n",
        "import matplotlib.pyplot as plt\n",
        "from google.colab.patches import cv2_imshow"
      ],
      "execution_count": 1,
      "outputs": []
    },
    {
      "cell_type": "code",
      "metadata": {
        "id": "ReOiSEjxfMH3"
      },
      "source": [
        "imagePaths = 'dataset/'\n",
        "label_list = ['Pandan', 'Pepaya']\n",
        "data = []\n",
        "labels = []"
      ],
      "execution_count": 2,
      "outputs": []
    },
    {
      "cell_type": "code",
      "metadata": {
        "id": "EdqipIbbfNHi"
      },
      "source": [
        "for label in label_list:\n",
        "    for imagePath in glob.glob(imagePaths+label+'/*.jpg'):\n",
        "        #print(imagePath)\n",
        "        image = cv2.imread(imagePath)\n",
        "        image = cv2.resize(image, (32, 32)).flatten()\n",
        "        data.append(image)\n",
        "        labels.append(label)"
      ],
      "execution_count": 3,
      "outputs": []
    },
    {
      "cell_type": "code",
      "metadata": {
        "colab": {
          "base_uri": "https://localhost:8080/"
        },
        "id": "AO1Jm91ZfN5v",
        "outputId": "b1863ec6-3f36-40a2-9236-e4767d1e523e"
      },
      "source": [
        "np.array(data).shape"
      ],
      "execution_count": 4,
      "outputs": [
        {
          "output_type": "execute_result",
          "data": {
            "text/plain": [
              "(100, 3072)"
            ]
          },
          "metadata": {},
          "execution_count": 4
        }
      ]
    },
    {
      "cell_type": "markdown",
      "metadata": {
        "id": "Uyx5ZrJrfPBK"
      },
      "source": [
        "<h3>3. Data Preprocessing</h3>"
      ]
    },
    {
      "cell_type": "code",
      "metadata": {
        "id": "yNeEpkQTfQ3a"
      },
      "source": [
        "# ubah type data dari list menjadi array\n",
        "# ubah nilai dari tiap pixel menjadi range [0..1]\n",
        "data = np.array(data, dtype='float') / 255.0\n",
        "labels = np.array(labels)"
      ],
      "execution_count": 5,
      "outputs": []
    },
    {
      "cell_type": "code",
      "metadata": {
        "colab": {
          "base_uri": "https://localhost:8080/"
        },
        "id": "JGaZq8ALfShe",
        "outputId": "4ee790d8-c59e-4e46-b4ea-809af2794ad1"
      },
      "source": [
        "print(labels)"
      ],
      "execution_count": 6,
      "outputs": [
        {
          "output_type": "stream",
          "name": "stdout",
          "text": [
            "['Pandan' 'Pandan' 'Pandan' 'Pandan' 'Pandan' 'Pandan' 'Pandan' 'Pandan'\n",
            " 'Pandan' 'Pandan' 'Pandan' 'Pandan' 'Pandan' 'Pandan' 'Pandan' 'Pandan'\n",
            " 'Pandan' 'Pandan' 'Pandan' 'Pandan' 'Pandan' 'Pandan' 'Pandan' 'Pandan'\n",
            " 'Pandan' 'Pandan' 'Pandan' 'Pandan' 'Pandan' 'Pandan' 'Pandan' 'Pandan'\n",
            " 'Pandan' 'Pandan' 'Pandan' 'Pandan' 'Pandan' 'Pandan' 'Pandan' 'Pandan'\n",
            " 'Pandan' 'Pandan' 'Pandan' 'Pandan' 'Pandan' 'Pandan' 'Pandan' 'Pandan'\n",
            " 'Pandan' 'Pandan' 'Pepaya' 'Pepaya' 'Pepaya' 'Pepaya' 'Pepaya' 'Pepaya'\n",
            " 'Pepaya' 'Pepaya' 'Pepaya' 'Pepaya' 'Pepaya' 'Pepaya' 'Pepaya' 'Pepaya'\n",
            " 'Pepaya' 'Pepaya' 'Pepaya' 'Pepaya' 'Pepaya' 'Pepaya' 'Pepaya' 'Pepaya'\n",
            " 'Pepaya' 'Pepaya' 'Pepaya' 'Pepaya' 'Pepaya' 'Pepaya' 'Pepaya' 'Pepaya'\n",
            " 'Pepaya' 'Pepaya' 'Pepaya' 'Pepaya' 'Pepaya' 'Pepaya' 'Pepaya' 'Pepaya'\n",
            " 'Pepaya' 'Pepaya' 'Pepaya' 'Pepaya' 'Pepaya' 'Pepaya' 'Pepaya' 'Pepaya'\n",
            " 'Pepaya' 'Pepaya' 'Pepaya' 'Pepaya']\n"
          ]
        }
      ]
    },
    {
      "cell_type": "code",
      "metadata": {
        "colab": {
          "base_uri": "https://localhost:8080/"
        },
        "id": "0Q1Ol0v4fTQj",
        "outputId": "0f02b25c-eb28-4c09-861d-2b972f7f0389"
      },
      "source": [
        "# ubah nilai dari labels menjadi binary\n",
        "lb = LabelBinarizer()\n",
        "labels = lb.fit_transform(labels)\n",
        "print(labels)"
      ],
      "execution_count": 7,
      "outputs": [
        {
          "output_type": "stream",
          "name": "stdout",
          "text": [
            "[[0]\n",
            " [0]\n",
            " [0]\n",
            " [0]\n",
            " [0]\n",
            " [0]\n",
            " [0]\n",
            " [0]\n",
            " [0]\n",
            " [0]\n",
            " [0]\n",
            " [0]\n",
            " [0]\n",
            " [0]\n",
            " [0]\n",
            " [0]\n",
            " [0]\n",
            " [0]\n",
            " [0]\n",
            " [0]\n",
            " [0]\n",
            " [0]\n",
            " [0]\n",
            " [0]\n",
            " [0]\n",
            " [0]\n",
            " [0]\n",
            " [0]\n",
            " [0]\n",
            " [0]\n",
            " [0]\n",
            " [0]\n",
            " [0]\n",
            " [0]\n",
            " [0]\n",
            " [0]\n",
            " [0]\n",
            " [0]\n",
            " [0]\n",
            " [0]\n",
            " [0]\n",
            " [0]\n",
            " [0]\n",
            " [0]\n",
            " [0]\n",
            " [0]\n",
            " [0]\n",
            " [0]\n",
            " [0]\n",
            " [0]\n",
            " [1]\n",
            " [1]\n",
            " [1]\n",
            " [1]\n",
            " [1]\n",
            " [1]\n",
            " [1]\n",
            " [1]\n",
            " [1]\n",
            " [1]\n",
            " [1]\n",
            " [1]\n",
            " [1]\n",
            " [1]\n",
            " [1]\n",
            " [1]\n",
            " [1]\n",
            " [1]\n",
            " [1]\n",
            " [1]\n",
            " [1]\n",
            " [1]\n",
            " [1]\n",
            " [1]\n",
            " [1]\n",
            " [1]\n",
            " [1]\n",
            " [1]\n",
            " [1]\n",
            " [1]\n",
            " [1]\n",
            " [1]\n",
            " [1]\n",
            " [1]\n",
            " [1]\n",
            " [1]\n",
            " [1]\n",
            " [1]\n",
            " [1]\n",
            " [1]\n",
            " [1]\n",
            " [1]\n",
            " [1]\n",
            " [1]\n",
            " [1]\n",
            " [1]\n",
            " [1]\n",
            " [1]\n",
            " [1]\n",
            " [1]]\n"
          ]
        }
      ]
    },
    {
      "cell_type": "markdown",
      "metadata": {
        "id": "TSmhyyyyfU1f"
      },
      "source": [
        "<h3>4. Split Dataset</h3>"
      ]
    },
    {
      "cell_type": "code",
      "metadata": {
        "id": "aKQPa0EifVtn"
      },
      "source": [
        "x_train, x_test, y_train, y_test = train_test_split(data, labels, test_size=0.2, random_state=42)"
      ],
      "execution_count": 8,
      "outputs": []
    },
    {
      "cell_type": "code",
      "metadata": {
        "id": "ftYqts3gfWgj",
        "colab": {
          "base_uri": "https://localhost:8080/"
        },
        "outputId": "11872135-88f7-4e95-b53c-8854449b7c2b"
      },
      "source": [
        "print('Ukuran data train =', x_train.shape)\n",
        "print('Ukuran data test =', x_test.shape)"
      ],
      "execution_count": 9,
      "outputs": [
        {
          "output_type": "stream",
          "name": "stdout",
          "text": [
            "Ukuran data train = (80, 3072)\n",
            "Ukuran data test = (20, 3072)\n"
          ]
        }
      ]
    },
    {
      "cell_type": "markdown",
      "metadata": {
        "id": "yxZFemDzfXnr"
      },
      "source": [
        "<h3>5. Build ANN Architecture</h3>"
      ]
    },
    {
      "cell_type": "code",
      "metadata": {
        "id": "DYaSfWyffYz8"
      },
      "source": [
        "# buat ANN dengan arsitektur input layer (3072) - hidden layer (512) - hidden layer (1024) - output layer (3)\n",
        "model = Sequential()\n",
        "model.add(Dense(512, input_shape=(3072,), activation=\"relu\"))\n",
        "model.add(Dense(2000, activation=\"relu\"))\n",
        "model.add(Dense(len(label_list), activation=\"softmax\"))"
      ],
      "execution_count": 10,
      "outputs": []
    },
    {
      "cell_type": "code",
      "metadata": {
        "id": "teRnW_adfZr8",
        "colab": {
          "base_uri": "https://localhost:8080/"
        },
        "outputId": "fff92c3e-e58e-4a82-8ab2-21eefc094760"
      },
      "source": [
        "model.summary()"
      ],
      "execution_count": 11,
      "outputs": [
        {
          "output_type": "stream",
          "name": "stdout",
          "text": [
            "Model: \"sequential\"\n",
            "_________________________________________________________________\n",
            "Layer (type)                 Output Shape              Param #   \n",
            "=================================================================\n",
            "dense (Dense)                (None, 512)               1573376   \n",
            "_________________________________________________________________\n",
            "dense_1 (Dense)              (None, 2000)              1026000   \n",
            "_________________________________________________________________\n",
            "dense_2 (Dense)              (None, 2)                 4002      \n",
            "=================================================================\n",
            "Total params: 2,603,378\n",
            "Trainable params: 2,603,378\n",
            "Non-trainable params: 0\n",
            "_________________________________________________________________\n"
          ]
        }
      ]
    },
    {
      "cell_type": "code",
      "metadata": {
        "id": "ABgaDR1UfaZl"
      },
      "source": [
        "# tentukan hyperparameter\n",
        "lr = 0.01\n",
        "max_epochs = 100\n",
        "opt_funct = SGD(learning_rate=lr)"
      ],
      "execution_count": 12,
      "outputs": []
    },
    {
      "cell_type": "code",
      "metadata": {
        "id": "nylSWdjmfbcy"
      },
      "source": [
        "# compile arsitektur yang telah dibuat\n",
        "model.compile(loss = 'sparse_categorical_crossentropy', \n",
        "              optimizer = opt_funct, \n",
        "              metrics = ['accuracy'])"
      ],
      "execution_count": 13,
      "outputs": []
    },
    {
      "cell_type": "markdown",
      "metadata": {
        "id": "k8MCUppbfc4L"
      },
      "source": [
        "<h3>6. Train Model</h3>"
      ]
    },
    {
      "cell_type": "code",
      "metadata": {
        "id": "9HN0DQD1fdrl",
        "colab": {
          "base_uri": "https://localhost:8080/"
        },
        "outputId": "90e7ae43-4a88-4beb-b378-98fd7422d427"
      },
      "source": [
        "H = model.fit(x_train, y_train, validation_data=(x_test, y_test), \n",
        "          epochs=max_epochs, batch_size=32)"
      ],
      "execution_count": 14,
      "outputs": [
        {
          "output_type": "stream",
          "name": "stdout",
          "text": [
            "Epoch 1/100\n",
            "3/3 [==============================] - 1s 107ms/step - loss: 2.0251 - accuracy: 0.4250 - val_loss: 0.8089 - val_accuracy: 0.6000\n",
            "Epoch 2/100\n",
            "3/3 [==============================] - 0s 28ms/step - loss: 0.8472 - accuracy: 0.5250 - val_loss: 0.6390 - val_accuracy: 0.6000\n",
            "Epoch 3/100\n",
            "3/3 [==============================] - 0s 27ms/step - loss: 0.6679 - accuracy: 0.6125 - val_loss: 0.6578 - val_accuracy: 0.4000\n",
            "Epoch 4/100\n",
            "3/3 [==============================] - 0s 29ms/step - loss: 0.6414 - accuracy: 0.4750 - val_loss: 0.5992 - val_accuracy: 1.0000\n",
            "Epoch 5/100\n",
            "3/3 [==============================] - 0s 30ms/step - loss: 0.6040 - accuracy: 0.7250 - val_loss: 0.6155 - val_accuracy: 0.7500\n",
            "Epoch 6/100\n",
            "3/3 [==============================] - 0s 29ms/step - loss: 0.5901 - accuracy: 0.5750 - val_loss: 0.5833 - val_accuracy: 0.7500\n",
            "Epoch 7/100\n",
            "3/3 [==============================] - 0s 32ms/step - loss: 0.7229 - accuracy: 0.5750 - val_loss: 0.5532 - val_accuracy: 0.9500\n",
            "Epoch 8/100\n",
            "3/3 [==============================] - 0s 26ms/step - loss: 0.5825 - accuracy: 0.7250 - val_loss: 0.6568 - val_accuracy: 0.6000\n",
            "Epoch 9/100\n",
            "3/3 [==============================] - 0s 26ms/step - loss: 0.7480 - accuracy: 0.6000 - val_loss: 0.6438 - val_accuracy: 0.6000\n",
            "Epoch 10/100\n",
            "3/3 [==============================] - 0s 33ms/step - loss: 0.7746 - accuracy: 0.5125 - val_loss: 0.5351 - val_accuracy: 0.9500\n",
            "Epoch 11/100\n",
            "3/3 [==============================] - 0s 39ms/step - loss: 0.5588 - accuracy: 0.7625 - val_loss: 0.5064 - val_accuracy: 1.0000\n",
            "Epoch 12/100\n",
            "3/3 [==============================] - 0s 29ms/step - loss: 0.5119 - accuracy: 0.9875 - val_loss: 0.5223 - val_accuracy: 0.7500\n",
            "Epoch 13/100\n",
            "3/3 [==============================] - 0s 27ms/step - loss: 0.5674 - accuracy: 0.6500 - val_loss: 0.5065 - val_accuracy: 0.9000\n",
            "Epoch 14/100\n",
            "3/3 [==============================] - 0s 30ms/step - loss: 0.4795 - accuracy: 0.9000 - val_loss: 0.4582 - val_accuracy: 1.0000\n",
            "Epoch 15/100\n",
            "3/3 [==============================] - 0s 35ms/step - loss: 0.4989 - accuracy: 0.7250 - val_loss: 0.5809 - val_accuracy: 0.5000\n",
            "Epoch 16/100\n",
            "3/3 [==============================] - 0s 26ms/step - loss: 0.6873 - accuracy: 0.4750 - val_loss: 0.5487 - val_accuracy: 0.6000\n",
            "Epoch 17/100\n",
            "3/3 [==============================] - 0s 28ms/step - loss: 0.5545 - accuracy: 0.6875 - val_loss: 0.7392 - val_accuracy: 0.4000\n",
            "Epoch 18/100\n",
            "3/3 [==============================] - 0s 29ms/step - loss: 0.6025 - accuracy: 0.5250 - val_loss: 0.4364 - val_accuracy: 1.0000\n",
            "Epoch 19/100\n",
            "3/3 [==============================] - 0s 27ms/step - loss: 0.4776 - accuracy: 0.8750 - val_loss: 0.4769 - val_accuracy: 0.6000\n",
            "Epoch 20/100\n",
            "3/3 [==============================] - 0s 27ms/step - loss: 0.7568 - accuracy: 0.4375 - val_loss: 0.8374 - val_accuracy: 0.4000\n",
            "Epoch 21/100\n",
            "3/3 [==============================] - 0s 31ms/step - loss: 0.5700 - accuracy: 0.7875 - val_loss: 0.7119 - val_accuracy: 0.4000\n",
            "Epoch 22/100\n",
            "3/3 [==============================] - 0s 31ms/step - loss: 0.5754 - accuracy: 0.5375 - val_loss: 0.5082 - val_accuracy: 0.7500\n",
            "Epoch 23/100\n",
            "3/3 [==============================] - 0s 31ms/step - loss: 0.4912 - accuracy: 0.7625 - val_loss: 0.8433 - val_accuracy: 0.6000\n",
            "Epoch 24/100\n",
            "3/3 [==============================] - 0s 29ms/step - loss: 0.7235 - accuracy: 0.7125 - val_loss: 0.4659 - val_accuracy: 0.6000\n",
            "Epoch 25/100\n",
            "3/3 [==============================] - 0s 32ms/step - loss: 0.4656 - accuracy: 0.7750 - val_loss: 0.4071 - val_accuracy: 0.9000\n",
            "Epoch 26/100\n",
            "3/3 [==============================] - 0s 29ms/step - loss: 0.4468 - accuracy: 0.8125 - val_loss: 1.2731 - val_accuracy: 0.4000\n",
            "Epoch 27/100\n",
            "3/3 [==============================] - 0s 30ms/step - loss: 0.6278 - accuracy: 0.7875 - val_loss: 0.4427 - val_accuracy: 0.8000\n",
            "Epoch 28/100\n",
            "3/3 [==============================] - 0s 29ms/step - loss: 0.4469 - accuracy: 0.8375 - val_loss: 0.4686 - val_accuracy: 0.6000\n",
            "Epoch 29/100\n",
            "3/3 [==============================] - 0s 26ms/step - loss: 0.5242 - accuracy: 0.6750 - val_loss: 0.4380 - val_accuracy: 0.7500\n",
            "Epoch 30/100\n",
            "3/3 [==============================] - 0s 28ms/step - loss: 0.6183 - accuracy: 0.6500 - val_loss: 0.4175 - val_accuracy: 1.0000\n",
            "Epoch 31/100\n",
            "3/3 [==============================] - 0s 28ms/step - loss: 0.4779 - accuracy: 0.6750 - val_loss: 0.3520 - val_accuracy: 1.0000\n",
            "Epoch 32/100\n",
            "3/3 [==============================] - 0s 31ms/step - loss: 0.4025 - accuracy: 0.8500 - val_loss: 0.8034 - val_accuracy: 0.4000\n",
            "Epoch 33/100\n",
            "3/3 [==============================] - 0s 28ms/step - loss: 0.4650 - accuracy: 0.7000 - val_loss: 0.3152 - val_accuracy: 1.0000\n",
            "Epoch 34/100\n",
            "3/3 [==============================] - 0s 28ms/step - loss: 0.3303 - accuracy: 0.9750 - val_loss: 0.6656 - val_accuracy: 0.6000\n",
            "Epoch 35/100\n",
            "3/3 [==============================] - 0s 31ms/step - loss: 0.6026 - accuracy: 0.5625 - val_loss: 1.3061 - val_accuracy: 0.4000\n",
            "Epoch 36/100\n",
            "3/3 [==============================] - 0s 28ms/step - loss: 0.7166 - accuracy: 0.6125 - val_loss: 0.3394 - val_accuracy: 1.0000\n",
            "Epoch 37/100\n",
            "3/3 [==============================] - 0s 26ms/step - loss: 0.3795 - accuracy: 0.9500 - val_loss: 0.6176 - val_accuracy: 0.4500\n",
            "Epoch 38/100\n",
            "3/3 [==============================] - 0s 27ms/step - loss: 0.5939 - accuracy: 0.5250 - val_loss: 0.3791 - val_accuracy: 0.9500\n",
            "Epoch 39/100\n",
            "3/3 [==============================] - 0s 31ms/step - loss: 0.3771 - accuracy: 0.8500 - val_loss: 0.3125 - val_accuracy: 1.0000\n",
            "Epoch 40/100\n",
            "3/3 [==============================] - 0s 28ms/step - loss: 0.2920 - accuracy: 0.9875 - val_loss: 0.5168 - val_accuracy: 0.7500\n",
            "Epoch 41/100\n",
            "3/3 [==============================] - 0s 27ms/step - loss: 0.5895 - accuracy: 0.6125 - val_loss: 0.4861 - val_accuracy: 0.6000\n",
            "Epoch 42/100\n",
            "3/3 [==============================] - 0s 28ms/step - loss: 0.7767 - accuracy: 0.4500 - val_loss: 0.5485 - val_accuracy: 0.7500\n",
            "Epoch 43/100\n",
            "3/3 [==============================] - 0s 29ms/step - loss: 0.4616 - accuracy: 0.8000 - val_loss: 0.3333 - val_accuracy: 0.9000\n",
            "Epoch 44/100\n",
            "3/3 [==============================] - 0s 27ms/step - loss: 0.5949 - accuracy: 0.6000 - val_loss: 0.8015 - val_accuracy: 0.4000\n",
            "Epoch 45/100\n",
            "3/3 [==============================] - 0s 28ms/step - loss: 0.7014 - accuracy: 0.4500 - val_loss: 0.3535 - val_accuracy: 1.0000\n",
            "Epoch 46/100\n",
            "3/3 [==============================] - 0s 26ms/step - loss: 0.3412 - accuracy: 0.9750 - val_loss: 0.2674 - val_accuracy: 1.0000\n",
            "Epoch 47/100\n",
            "3/3 [==============================] - 0s 32ms/step - loss: 0.2927 - accuracy: 0.9625 - val_loss: 0.2684 - val_accuracy: 1.0000\n",
            "Epoch 48/100\n",
            "3/3 [==============================] - 0s 29ms/step - loss: 0.5500 - accuracy: 0.6250 - val_loss: 0.8209 - val_accuracy: 0.4000\n",
            "Epoch 49/100\n",
            "3/3 [==============================] - 0s 28ms/step - loss: 0.6559 - accuracy: 0.5125 - val_loss: 0.3296 - val_accuracy: 1.0000\n",
            "Epoch 50/100\n",
            "3/3 [==============================] - 0s 26ms/step - loss: 0.3044 - accuracy: 1.0000 - val_loss: 0.5093 - val_accuracy: 0.7500\n",
            "Epoch 51/100\n",
            "3/3 [==============================] - 0s 29ms/step - loss: 0.5862 - accuracy: 0.6250 - val_loss: 0.5936 - val_accuracy: 0.6000\n",
            "Epoch 52/100\n",
            "3/3 [==============================] - 0s 30ms/step - loss: 0.5053 - accuracy: 0.7875 - val_loss: 0.2830 - val_accuracy: 1.0000\n",
            "Epoch 53/100\n",
            "3/3 [==============================] - 0s 27ms/step - loss: 0.3935 - accuracy: 0.7625 - val_loss: 0.8342 - val_accuracy: 0.4000\n",
            "Epoch 54/100\n",
            "3/3 [==============================] - 0s 31ms/step - loss: 0.7817 - accuracy: 0.4250 - val_loss: 0.3951 - val_accuracy: 0.9000\n",
            "Epoch 55/100\n",
            "3/3 [==============================] - 0s 28ms/step - loss: 0.4143 - accuracy: 0.8750 - val_loss: 0.8573 - val_accuracy: 0.4000\n",
            "Epoch 56/100\n",
            "3/3 [==============================] - 0s 28ms/step - loss: 0.3760 - accuracy: 0.8500 - val_loss: 0.2312 - val_accuracy: 1.0000\n",
            "Epoch 57/100\n",
            "3/3 [==============================] - 0s 27ms/step - loss: 0.3590 - accuracy: 0.8750 - val_loss: 1.3286 - val_accuracy: 0.4000\n",
            "Epoch 58/100\n",
            "3/3 [==============================] - 0s 27ms/step - loss: 0.6918 - accuracy: 0.6250 - val_loss: 0.2886 - val_accuracy: 0.9500\n",
            "Epoch 59/100\n",
            "3/3 [==============================] - 0s 29ms/step - loss: 0.2873 - accuracy: 0.9125 - val_loss: 0.2365 - val_accuracy: 1.0000\n",
            "Epoch 60/100\n",
            "3/3 [==============================] - 0s 31ms/step - loss: 0.2117 - accuracy: 1.0000 - val_loss: 0.1811 - val_accuracy: 1.0000\n",
            "Epoch 61/100\n",
            "3/3 [==============================] - 0s 28ms/step - loss: 0.1905 - accuracy: 1.0000 - val_loss: 0.1914 - val_accuracy: 1.0000\n",
            "Epoch 62/100\n",
            "3/3 [==============================] - 0s 30ms/step - loss: 0.3348 - accuracy: 0.8625 - val_loss: 0.4222 - val_accuracy: 0.6000\n",
            "Epoch 63/100\n",
            "3/3 [==============================] - 0s 29ms/step - loss: 0.6129 - accuracy: 0.5875 - val_loss: 0.9812 - val_accuracy: 0.4000\n",
            "Epoch 64/100\n",
            "3/3 [==============================] - 0s 30ms/step - loss: 0.5518 - accuracy: 0.6750 - val_loss: 0.3898 - val_accuracy: 0.7500\n",
            "Epoch 65/100\n",
            "3/3 [==============================] - 0s 28ms/step - loss: 0.4011 - accuracy: 0.7375 - val_loss: 0.6078 - val_accuracy: 0.6000\n",
            "Epoch 66/100\n",
            "3/3 [==============================] - 0s 26ms/step - loss: 0.8429 - accuracy: 0.4250 - val_loss: 0.4028 - val_accuracy: 0.8500\n",
            "Epoch 67/100\n",
            "3/3 [==============================] - 0s 28ms/step - loss: 0.2794 - accuracy: 1.0000 - val_loss: 0.2119 - val_accuracy: 1.0000\n",
            "Epoch 68/100\n",
            "3/3 [==============================] - 0s 27ms/step - loss: 0.3718 - accuracy: 0.8125 - val_loss: 0.8341 - val_accuracy: 0.4000\n",
            "Epoch 69/100\n",
            "3/3 [==============================] - 0s 29ms/step - loss: 0.4047 - accuracy: 0.7625 - val_loss: 0.1990 - val_accuracy: 1.0000\n",
            "Epoch 70/100\n",
            "3/3 [==============================] - 0s 26ms/step - loss: 0.1943 - accuracy: 1.0000 - val_loss: 0.1550 - val_accuracy: 1.0000\n",
            "Epoch 71/100\n",
            "3/3 [==============================] - 0s 26ms/step - loss: 0.2485 - accuracy: 0.8875 - val_loss: 0.5695 - val_accuracy: 0.7000\n",
            "Epoch 72/100\n",
            "3/3 [==============================] - 0s 26ms/step - loss: 0.7141 - accuracy: 0.6000 - val_loss: 0.5637 - val_accuracy: 0.6000\n",
            "Epoch 73/100\n",
            "3/3 [==============================] - 0s 30ms/step - loss: 0.4812 - accuracy: 0.7750 - val_loss: 0.2899 - val_accuracy: 0.9500\n",
            "Epoch 74/100\n",
            "3/3 [==============================] - 0s 30ms/step - loss: 0.2084 - accuracy: 1.0000 - val_loss: 0.1719 - val_accuracy: 1.0000\n",
            "Epoch 75/100\n",
            "3/3 [==============================] - 0s 28ms/step - loss: 0.1676 - accuracy: 1.0000 - val_loss: 0.1323 - val_accuracy: 1.0000\n",
            "Epoch 76/100\n",
            "3/3 [==============================] - 0s 28ms/step - loss: 0.1681 - accuracy: 1.0000 - val_loss: 0.2871 - val_accuracy: 0.9000\n",
            "Epoch 77/100\n",
            "3/3 [==============================] - 0s 30ms/step - loss: 0.1899 - accuracy: 0.9375 - val_loss: 0.3232 - val_accuracy: 0.7500\n",
            "Epoch 78/100\n",
            "3/3 [==============================] - 0s 30ms/step - loss: 1.2205 - accuracy: 0.4875 - val_loss: 0.5972 - val_accuracy: 0.4000\n",
            "Epoch 79/100\n",
            "3/3 [==============================] - 0s 29ms/step - loss: 0.4606 - accuracy: 0.7750 - val_loss: 0.2660 - val_accuracy: 1.0000\n",
            "Epoch 80/100\n",
            "3/3 [==============================] - 0s 28ms/step - loss: 0.2714 - accuracy: 0.9750 - val_loss: 0.2546 - val_accuracy: 0.9500\n",
            "Epoch 81/100\n",
            "3/3 [==============================] - 0s 29ms/step - loss: 0.3349 - accuracy: 0.8500 - val_loss: 0.6912 - val_accuracy: 0.6000\n",
            "Epoch 82/100\n",
            "3/3 [==============================] - 0s 27ms/step - loss: 0.4863 - accuracy: 0.8125 - val_loss: 0.3230 - val_accuracy: 0.9000\n",
            "Epoch 83/100\n",
            "3/3 [==============================] - 0s 29ms/step - loss: 0.2976 - accuracy: 0.8875 - val_loss: 0.3645 - val_accuracy: 0.7000\n",
            "Epoch 84/100\n",
            "3/3 [==============================] - 0s 32ms/step - loss: 0.4595 - accuracy: 0.6750 - val_loss: 0.2662 - val_accuracy: 0.9500\n",
            "Epoch 85/100\n",
            "3/3 [==============================] - 0s 32ms/step - loss: 0.1994 - accuracy: 0.9500 - val_loss: 0.1333 - val_accuracy: 1.0000\n",
            "Epoch 86/100\n",
            "3/3 [==============================] - 0s 27ms/step - loss: 0.1630 - accuracy: 1.0000 - val_loss: 0.7040 - val_accuracy: 0.5000\n",
            "Epoch 87/100\n",
            "3/3 [==============================] - 0s 28ms/step - loss: 0.6638 - accuracy: 0.5375 - val_loss: 0.2261 - val_accuracy: 1.0000\n",
            "Epoch 88/100\n",
            "3/3 [==============================] - 0s 28ms/step - loss: 0.2084 - accuracy: 0.9375 - val_loss: 0.1230 - val_accuracy: 1.0000\n",
            "Epoch 89/100\n",
            "3/3 [==============================] - 0s 28ms/step - loss: 0.1387 - accuracy: 1.0000 - val_loss: 0.1271 - val_accuracy: 1.0000\n",
            "Epoch 90/100\n",
            "3/3 [==============================] - 0s 29ms/step - loss: 0.1197 - accuracy: 1.0000 - val_loss: 0.1055 - val_accuracy: 1.0000\n",
            "Epoch 91/100\n",
            "3/3 [==============================] - 0s 29ms/step - loss: 0.1092 - accuracy: 1.0000 - val_loss: 0.1222 - val_accuracy: 1.0000\n",
            "Epoch 92/100\n",
            "3/3 [==============================] - 0s 28ms/step - loss: 0.1200 - accuracy: 1.0000 - val_loss: 0.1264 - val_accuracy: 1.0000\n",
            "Epoch 93/100\n",
            "3/3 [==============================] - 0s 28ms/step - loss: 0.3679 - accuracy: 0.7125 - val_loss: 0.3959 - val_accuracy: 0.7500\n",
            "Epoch 94/100\n",
            "3/3 [==============================] - 0s 27ms/step - loss: 0.4074 - accuracy: 0.7750 - val_loss: 0.1627 - val_accuracy: 1.0000\n",
            "Epoch 95/100\n",
            "3/3 [==============================] - 0s 27ms/step - loss: 0.1692 - accuracy: 0.9375 - val_loss: 0.1812 - val_accuracy: 0.9500\n",
            "Epoch 96/100\n",
            "3/3 [==============================] - 0s 30ms/step - loss: 0.1086 - accuracy: 0.9875 - val_loss: 0.0787 - val_accuracy: 1.0000\n",
            "Epoch 97/100\n",
            "3/3 [==============================] - 0s 31ms/step - loss: 0.0942 - accuracy: 1.0000 - val_loss: 0.1926 - val_accuracy: 0.9500\n",
            "Epoch 98/100\n",
            "3/3 [==============================] - 0s 32ms/step - loss: 0.1231 - accuracy: 0.9875 - val_loss: 0.0946 - val_accuracy: 1.0000\n",
            "Epoch 99/100\n",
            "3/3 [==============================] - 0s 27ms/step - loss: 0.2421 - accuracy: 0.8750 - val_loss: 2.9067 - val_accuracy: 0.4000\n",
            "Epoch 100/100\n",
            "3/3 [==============================] - 0s 28ms/step - loss: 0.7911 - accuracy: 0.8500 - val_loss: 0.1044 - val_accuracy: 1.0000\n"
          ]
        }
      ]
    },
    {
      "cell_type": "code",
      "metadata": {
        "id": "2HAaODmGfe1S",
        "colab": {
          "base_uri": "https://localhost:8080/",
          "height": 283
        },
        "outputId": "4aa7b7ad-594c-465e-eb95-e6a8f898dc07"
      },
      "source": [
        "N = np.arange(0, max_epochs)\n",
        "plt.style.use(\"ggplot\")\n",
        "plt.figure()\n",
        "plt.plot(N, H.history[\"loss\"], label=\"train_loss\")\n",
        "plt.plot(N, H.history[\"val_loss\"], label=\"val_loss\")\n",
        "plt.plot(N, H.history[\"accuracy\"], label=\"train_acc\")\n",
        "plt.plot(N, H.history[\"val_accuracy\"], label=\"val_acc\")\n",
        "plt.xlabel(\"Epoch #\")\n",
        "plt.legend()\n",
        "plt.show()"
      ],
      "execution_count": 15,
      "outputs": [
        {
          "output_type": "display_data",
          "data": {
            "image/png": "[encoded data removed]",
            "text/plain": [
              "<Figure size 432x288 with 1 Axes>"
            ]
          },
          "metadata": {}
        }
      ]
    },
    {
      "cell_type": "markdown",
      "metadata": {
        "id": "7N0P5-uEfhZo"
      },
      "source": [
        "<h3>7. Evaluate the Model</h3>"
      ]
    },
    {
      "cell_type": "code",
      "metadata": {
        "id": "Y07ZxYmofiRW",
        "colab": {
          "base_uri": "https://localhost:8080/"
        },
        "outputId": "cfba7b3c-cb96-4e76-9ba0-bfcb9a695f2b"
      },
      "source": [
        "# menghitung nilai akurasi model terhadap data test\n",
        "predictions = model.predict(x_test, batch_size=32)\n",
        "print(classification_report(y_test.argmax(axis=1), predictions.argmax(axis=1), target_names=label_list))"
      ],
      "execution_count": 16,
      "outputs": [
        {
          "output_type": "stream",
          "name": "stdout",
          "text": [
            "              precision    recall  f1-score   support\n",
            "\n",
            "      Pandan       1.00      0.60      0.75        20\n",
            "      Pepaya       0.00      0.00      0.00         0\n",
            "\n",
            "    accuracy                           0.60        20\n",
            "   macro avg       0.50      0.30      0.37        20\n",
            "weighted avg       1.00      0.60      0.75        20\n",
            "\n"
          ]
        },
        {
          "output_type": "stream",
          "name": "stderr",
          "text": [
            "/usr/local/lib/python3.7/dist-packages/sklearn/metrics/_classification.py:1272: UndefinedMetricWarning: Recall and F-score are ill-defined and being set to 0.0 in labels with no true samples. Use `zero_division` parameter to control this behavior.\n",
            "  _warn_prf(average, modifier, msg_start, len(result))\n"
          ]
        }
      ]
    },
    {
      "cell_type": "code",
      "metadata": {
        "id": "fYzopiXefjNG",
        "colab": {
          "base_uri": "https://localhost:8080/",
          "height": 231
        },
        "outputId": "2a3769bd-5cf5-4e24-891f-9f2d50f00b6d"
      },
      "source": [
        "# uji model menggunakan image lain\n",
        "queryPath = imagePaths+'query_wolf.jpg'\n",
        "query = cv2.imread(queryPath)\n",
        "output = query.copy()\n",
        "query = cv2.resize(query, (32, 32)).flatten()\n",
        "q = []\n",
        "q.append(query)\n",
        "q = np.array(q, dtype='float') / 255.0\n",
        "\n",
        "q_pred = model.predict(q)\n",
        "i = q_pred.argmax(axis=1)[0]\n",
        "label = lb.classes_[i]"
      ],
      "execution_count": 17,
      "outputs": [
        {
          "output_type": "error",
          "ename": "AttributeError",
          "evalue": "ignored",
          "traceback": [
            "\u001b[0;31m---------------------------------------------------------------------------\u001b[0m",
            "\u001b[0;31mAttributeError\u001b[0m                            Traceback (most recent call last)",
            "\u001b[0;32m<ipython-input-17-41edbb0bc6bc>\u001b[0m in \u001b[0;36m<module>\u001b[0;34m()\u001b[0m\n\u001b[1;32m      2\u001b[0m \u001b[0mqueryPath\u001b[0m \u001b[0;34m=\u001b[0m \u001b[0mimagePaths\u001b[0m\u001b[0;34m+\u001b[0m\u001b[0;34m'query_wolf.jpg'\u001b[0m\u001b[0;34m\u001b[0m\u001b[0;34m\u001b[0m\u001b[0m\n\u001b[1;32m      3\u001b[0m \u001b[0mquery\u001b[0m \u001b[0;34m=\u001b[0m \u001b[0mcv2\u001b[0m\u001b[0;34m.\u001b[0m\u001b[0mimread\u001b[0m\u001b[0;34m(\u001b[0m\u001b[0mqueryPath\u001b[0m\u001b[0;34m)\u001b[0m\u001b[0;34m\u001b[0m\u001b[0;34m\u001b[0m\u001b[0m\n\u001b[0;32m----> 4\u001b[0;31m \u001b[0moutput\u001b[0m \u001b[0;34m=\u001b[0m \u001b[0mquery\u001b[0m\u001b[0;34m.\u001b[0m\u001b[0mcopy\u001b[0m\u001b[0;34m(\u001b[0m\u001b[0;34m)\u001b[0m\u001b[0;34m\u001b[0m\u001b[0;34m\u001b[0m\u001b[0m\n\u001b[0m\u001b[1;32m      5\u001b[0m \u001b[0mquery\u001b[0m \u001b[0;34m=\u001b[0m \u001b[0mcv2\u001b[0m\u001b[0;34m.\u001b[0m\u001b[0mresize\u001b[0m\u001b[0;34m(\u001b[0m\u001b[0mquery\u001b[0m\u001b[0;34m,\u001b[0m \u001b[0;34m(\u001b[0m\u001b[0;36m32\u001b[0m\u001b[0;34m,\u001b[0m \u001b[0;36m32\u001b[0m\u001b[0;34m)\u001b[0m\u001b[0;34m)\u001b[0m\u001b[0;34m.\u001b[0m\u001b[0mflatten\u001b[0m\u001b[0;34m(\u001b[0m\u001b[0;34m)\u001b[0m\u001b[0;34m\u001b[0m\u001b[0;34m\u001b[0m\u001b[0m\n\u001b[1;32m      6\u001b[0m \u001b[0mq\u001b[0m \u001b[0;34m=\u001b[0m \u001b[0;34m[\u001b[0m\u001b[0;34m]\u001b[0m\u001b[0;34m\u001b[0m\u001b[0;34m\u001b[0m\u001b[0m\n",
            "\u001b[0;31mAttributeError\u001b[0m: 'NoneType' object has no attribute 'copy'"
          ]
        }
      ]
    },
    {
      "cell_type": "code",
      "metadata": {
        "id": "j5GfJB4nfkLs"
      },
      "source": [
        "text = \"{}: {:.2f}%\".format(label, q_pred[0][i] * 100)\n",
        "cv2.putText(output, text, (10, 30), cv2.FONT_HERSHEY_SIMPLEX, 0.7, (0, 0, 255), 2)\n",
        "\n",
        "# menampilkan output image\n",
        "cv2.imshow('Output', output)\n",
        "cv2.waitKey() # image tidak akan diclose,sebelum user menekan sembarang tombol\n",
        "cv2.destroyWindow('Output') # image akan diclose"
      ],
      "execution_count": null,
      "outputs": []
    }
  ]
}