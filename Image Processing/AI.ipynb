{
  "cells": [
    {
      "cell_type": "code",
      "execution_count": 1,
      "metadata": {
        "id": "J6ifIPVbpEVt"
      },
      "outputs": [],
      "source": [
        "import cv2"
      ]
    },
    {
      "cell_type": "code",
      "execution_count": 2,
      "metadata": {
        "id": "jLVjmy0lpG8Y"
      },
      "outputs": [],
      "source": [
        "# membaca image\n",
        "image = cv2.imread(\"004.jpg\")"
      ]
    },
    {
      "cell_type": "code",
      "execution_count": 3,
      "metadata": {
        "id": "hOb6XTA0wBJU"
      },
      "outputs": [
        {
          "name": "stdout",
          "output_type": "stream",
          "text": [
            "[[[255 253 253]\n",
            "  [255 253 253]\n",
            "  [255 253 253]\n",
            "  ...\n",
            "  [255 253 253]\n",
            "  [255 253 253]\n",
            "  [255 253 253]]\n",
            "\n",
            " [[255 253 253]\n",
            "  [255 253 253]\n",
            "  [255 253 253]\n",
            "  ...\n",
            "  [255 253 253]\n",
            "  [255 253 253]\n",
            "  [255 253 253]]\n",
            "\n",
            " [[255 253 253]\n",
            "  [255 253 253]\n",
            "  [255 253 253]\n",
            "  ...\n",
            "  [255 253 253]\n",
            "  [255 253 253]\n",
            "  [255 253 253]]\n",
            "\n",
            " ...\n",
            "\n",
            " [[255 253 253]\n",
            "  [255 253 253]\n",
            "  [255 253 253]\n",
            "  ...\n",
            "  [255 253 253]\n",
            "  [255 253 253]\n",
            "  [255 253 253]]\n",
            "\n",
            " [[255 253 253]\n",
            "  [255 253 253]\n",
            "  [255 253 253]\n",
            "  ...\n",
            "  [255 253 253]\n",
            "  [255 253 253]\n",
            "  [255 253 253]]\n",
            "\n",
            " [[255 253 253]\n",
            "  [255 253 253]\n",
            "  [255 253 253]\n",
            "  ...\n",
            "  [255 253 253]\n",
            "  [255 253 253]\n",
            "  [255 253 253]]]\n"
          ]
        }
      ],
      "source": [
        "print(image)"
      ]
    },
    {
      "cell_type": "code",
      "execution_count": 4,
      "metadata": {
        "id": "-jzTN1rlpXOq"
      },
      "outputs": [],
      "source": [
        "# menampilkan image\n",
        "cv2.imshow('leaf', image)\n",
        "cv2.waitKey(0)\n",
        "cv2.destroyAllWindows()"
      ]
    },
    {
      "cell_type": "code",
      "execution_count": 5,
      "metadata": {
        "id": "gHkTE0NdpxuW"
      },
      "outputs": [
        {
          "name": "stdout",
          "output_type": "stream",
          "text": [
            "(1200, 1600, 3)\n"
          ]
        }
      ],
      "source": [
        "print(image.shape)"
      ]
    },
    {
      "cell_type": "code",
      "execution_count": 6,
      "metadata": {
        "id": "551shXYOp3Ig"
      },
      "outputs": [
        {
          "name": "stdout",
          "output_type": "stream",
          "text": [
            "blue = 255\n",
            "green = 253\n",
            "red = 253\n"
          ]
        }
      ],
      "source": [
        "# mengakeses nilai di pixel x=100, y=20\n",
        "(b, g, r) = image[20, 100]\n",
        "print(\"blue =\" ,b)\n",
        "print(\"green =\" ,g)\n",
        "print(\"red =\" ,r)"
      ]
    },
    {
      "cell_type": "code",
      "execution_count": 7,
      "metadata": {
        "id": "5lufGaszqUHN"
      },
      "outputs": [
        {
          "name": "stdout",
          "output_type": "stream",
          "text": [
            "(560, 200, 3)\n"
          ]
        }
      ],
      "source": [
        "# crop image\n",
        "im_crop = image[100:660, 100:300]\n",
        "\n",
        "cv2.imshow('crop' ,im_crop)\n",
        "cv2.waitKey(0)\n",
        "cv2.destroyAllWindows()\n",
        "print(im_crop.shape)"
      ]
    },
    {
      "cell_type": "code",
      "execution_count": 8,
      "metadata": {
        "id": "9Q2E4fKbwUu4"
      },
      "outputs": [
        {
          "name": "stdout",
          "output_type": "stream",
          "text": [
            "(1200, 1600, 3)\n"
          ]
        }
      ],
      "source": [
        "# mengcopy image\n",
        "cp_image = image.copy()\n",
        "print(cp_image.shape)"
      ]
    },
    {
      "cell_type": "code",
      "execution_count": 9,
      "metadata": {
        "id": "YwWKgAVdwkFs"
      },
      "outputs": [],
      "source": [
        "# mengubah nilai pixel\n",
        "cp_image[300:350, 170:300] = (255, 255, 255)\n",
        "\n",
        "cv2.imshow('cp_image' ,cp_image)\n",
        "cv2.waitKey(0)\n",
        "cv2.destroyAllWindows()"
      ]
    },
    {
      "cell_type": "code",
      "execution_count": 10,
      "metadata": {
        "id": "Ki0sVbh3w8Mv"
      },
      "outputs": [],
      "source": [
        "# resize image (ignore aspect ratio)\n",
        "im_resized = cv2.resize(image, (400,400))\n",
        "\n",
        "cv2.imshow('im_resize' ,im_resized)\n",
        "cv2.waitKey(0)\n",
        "cv2.destroyAllWindows()\n"
      ]
    },
    {
      "cell_type": "code",
      "execution_count": 11,
      "metadata": {
        "id": "YOdFG-Ooxn4Y"
      },
      "outputs": [],
      "source": [
        "# resize image (Mempertahankan aspek ratio)\n",
        "r = 400/image.shape[1]\n",
        "dim = (400, int(image.shape[0]*r))\n",
        "im_resized = cv2.resize(image, dim)\n",
        "\n",
        "cv2.imshow('im_resized',im_resized)\n",
        "cv2.waitKey(0)\n",
        "cv2.destroyAllWindows()"
      ]
    },
    {
      "cell_type": "code",
      "execution_count": 12,
      "metadata": {
        "id": "VdumYhHkyjU8"
      },
      "outputs": [],
      "source": [
        "# rotating an image\n",
        "(h, w) = image.shape[:2]\n",
        "center = (w/2, h/2)\n",
        "\n",
        "M = cv2.getRotationMatrix2D(center, 180, 1.0)\n",
        "rotate = cv2.warpAffine(image, M, (w,h))\n",
        "\n",
        "cv2.imshow('rotate',rotate)\n",
        "cv2.waitKey(0)\n",
        "cv2.destroyAllWindows()"
      ]
    },
    {
      "cell_type": "code",
      "execution_count": 13,
      "metadata": {
        "id": "2kQ27cgvzW7P"
      },
      "outputs": [
        {
          "data": {
            "text/plain": [
              "True"
            ]
          },
          "execution_count": 13,
          "metadata": {},
          "output_type": "execute_result"
        }
      ],
      "source": [
        "# menyimpan Image\n",
        "cv2.imwrite(\"rotate.png\", rotate)"
      ]
    },
    {
      "cell_type": "code",
      "execution_count": 14,
      "metadata": {
        "id": "PwsNbwbKzlLC"
      },
      "outputs": [],
      "source": [
        "#adjust image contrast\n",
        "import numpy as np\n",
        "im_adjusted = cv2.addWeighted(im_resized, 1.5, np.zeros(im_resized.shape, im_resized.dtype), 0, -100)\n",
        "\n",
        "\n",
        "cv2.imshow('Original Image',im_resized)\n",
        "cv2.imshow('Adjusted Image',im_adjusted)\n",
        "cv2.waitKey(0)\n",
        "cv2.destroyAllWindows()"
      ]
    },
    {
      "cell_type": "code",
      "execution_count": 15,
      "metadata": {
        "id": "vbFcbAc-0SkN"
      },
      "outputs": [],
      "source": [
        "# detect edges\n",
        "im_edges = cv2.Canny(im_resized, 100, 200)\n",
        "\n",
        "cv2.imshow('Original Image',im_resized)\n",
        "cv2.imshow('Detected Edges',im_edges)\n",
        "cv2.waitKey(0)\n",
        "cv2.destroyAllWindows()"
      ]
    },
    {
      "cell_type": "code",
      "execution_count": 18,
      "metadata": {
        "id": "iMRYbc5F03F4"
      },
      "outputs": [],
      "source": [
        "# covert image to greyscale\n",
        "im_gray = cv2.cvtColor(im_resized, cv2.COLOR_BGR2GRAY)\n",
        "\n",
        "cv2.imshow('Original Image',im_resized)\n",
        "cv2.imshow('Grayscale Image',im_gray)\n",
        "cv2.waitKey(0)\n",
        "cv2.destroyAllWindows()"
      ]
    },
    {
      "cell_type": "code",
      "execution_count": 17,
      "metadata": {
        "id": "AT8Dnh0e1ZRa"
      },
      "outputs": [],
      "source": [
        "#get All file in folder\n",
        "import glob\n",
        "\n",
        "imdir = 'dataset/elephant/'\n",
        "ext = ['png', 'jpg', 'gif']    # Add image formats here\n",
        "\n",
        "files = []\n",
        "[files.extend(glob.glob(imdir + '*.' + e)) for e in ext]\n",
        "  \n",
        "images = [cv2.imread(file) for file in files]\n",
        "  \n",
        "# adjust contrast to all of them nd save to different location\n",
        "i = 1\n",
        "for img in images:\n",
        "    im_adjusted = cv2.addWeighted(img, 1.5, np.zeros(img.shape, img.dtype), 0, -100)\n",
        "    im_name = \"dataset/elephant_contrast/\" + str(i) + \".jpg\"\n",
        "    cv2.imwrite(im_name, im_adjusted)\n",
        "    i+=1"
      ]
    }
  ],
  "metadata": {
    "colab": {
      "collapsed_sections": [],
      "name": "AI",
      "provenance": []
    },
    "interpreter": {
      "hash": "ebae40df9a4f68b542bd528fd0cf15d9e9b96d2b2a499b98c3797dfffc1ee31a"
    },
    "kernelspec": {
      "display_name": "Python 3.10.0 64-bit",
      "name": "python3"
    },
    "language_info": {
      "codemirror_mode": {
        "name": "ipython",
        "version": 3
      },
      "file_extension": ".py",
      "mimetype": "text/x-python",
      "name": "python",
      "nbconvert_exporter": "python",
      "pygments_lexer": "ipython3",
      "version": "3.10.0"
    }
  },
  "nbformat": 4,
  "nbformat_minor": 0
}
