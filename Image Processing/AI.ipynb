{
  "nbformat": 4,
  "nbformat_minor": 0,
  "metadata": {
    "colab": {
      "name": "AI",
      "provenance": [],
      "collapsed_sections": []
    },
    "kernelspec": {
      "display_name": "Python 3",
      "name": "python3"
    },
    "language_info": {
      "name": "python"
    }
  },
  "cells": [
    {
      "cell_type": "code",
      "metadata": {
        "id": "J6ifIPVbpEVt"
      },
      "source": [
        "import cv2"
      ],
      "execution_count": null,
      "outputs": []
    },
    {
      "cell_type": "code",
      "metadata": {
        "id": "jLVjmy0lpG8Y"
      },
      "source": [
        "# membaca image\n",
        "image = cv2.imread(\"leaf.jpg\")"
      ],
      "execution_count": null,
      "outputs": []
    },
    {
      "cell_type": "code",
      "metadata": {
        "id": "hOb6XTA0wBJU"
      },
      "source": [
        "print(image)"
      ],
      "execution_count": null,
      "outputs": []
    },
    {
      "cell_type": "code",
      "metadata": {
        "id": "-jzTN1rlpXOq"
      },
      "source": [
        "# menampilkan image\n",
        "cv2.imshow('leaf', image)\n",
        "cv2.waitkey(0)\n",
        "cv2.destroyAllWindows()"
      ],
      "execution_count": null,
      "outputs": []
    },
    {
      "cell_type": "code",
      "metadata": {
        "id": "gHkTE0NdpxuW"
      },
      "source": [
        "print(image.shape)"
      ],
      "execution_count": null,
      "outputs": []
    },
    {
      "cell_type": "code",
      "metadata": {
        "id": "551shXYOp3Ig"
      },
      "source": [
        "# mengakeses nilai di pixel x=100, y=20\n",
        "(b, g, r) = image[20, 100]\n",
        "print(\"blue =\" ,b)\n",
        "print(\"green =\" ,g)\n",
        "print(\"red =\" ,r)"
      ],
      "execution_count": null,
      "outputs": []
    },
    {
      "cell_type": "code",
      "metadata": {
        "id": "5lufGaszqUHN"
      },
      "source": [
        "# crop image\n",
        "im_crop = image[100:660, 100:300]\n",
        "\n",
        "cv2.imshow('crop' ,im_crop)\n",
        "cv2.waitKey(0)\n",
        "cv2.destroyAllWindows()\n",
        "print(im_crop.shape)"
      ],
      "execution_count": null,
      "outputs": []
    },
    {
      "cell_type": "code",
      "metadata": {
        "id": "9Q2E4fKbwUu4"
      },
      "source": [
        "# mengcopy image\n",
        "cp_image = image.copy()\n",
        "print(cp_image.shape)"
      ],
      "execution_count": null,
      "outputs": []
    },
    {
      "cell_type": "code",
      "metadata": {
        "id": "YwWKgAVdwkFs"
      },
      "source": [
        "# mengubah nilai pixel\n",
        "cp_image[300:350, 170:300] = (255, 255, 255)\n",
        "\n",
        "cv2.imshow('cp_image' ,cp_image)\n",
        "cv2.waitKey(0)\n",
        "cv2.destroyAllWindows()"
      ],
      "execution_count": null,
      "outputs": []
    },
    {
      "cell_type": "code",
      "metadata": {
        "id": "Ki0sVbh3w8Mv"
      },
      "source": [
        "# resize image (ignore aspect ratio)\n",
        "im_resized = cv2.resize(image, (400,400))\n",
        "\n",
        "cv2.imshow('im_resize' ,im_resized)\n",
        "cv2.waitkey(0)\n",
        "cv2.destroyAllWindows()\n"
      ],
      "execution_count": null,
      "outputs": []
    },
    {
      "cell_type": "code",
      "metadata": {
        "id": "YOdFG-Ooxn4Y"
      },
      "source": [
        "# resize image (Mempertahankan aspek ratio)\n",
        "r = 400/image.shape[1]\n",
        "dim = (400, int(image.shape[0]*r))\n",
        "im_resized = cv2.resize(image, dim)\n",
        "\n",
        "cv2.imshow('im_resized',im_resized)\n",
        "cv2.waitKey(0)\n",
        "cv2.destroyAllwindows()"
      ],
      "execution_count": null,
      "outputs": []
    },
    {
      "cell_type": "code",
      "metadata": {
        "id": "VdumYhHkyjU8"
      },
      "source": [
        "# rotating an image\n",
        "(h, w) = image.shape[:2]\n",
        "center = (w/2, h/2)\n",
        "\n",
        "M = cv2.getRotationMatrix2D(center, 180, 1.0)\n",
        "rotate = cv2.warpAFFine(image, M, (w,h))\n",
        "\n",
        "cv2.imshow('rotate',rotated)\n",
        "cv2.waitkey(0)\n",
        "cv2.destroyAllWindows()"
      ],
      "execution_count": null,
      "outputs": []
    },
    {
      "cell_type": "code",
      "metadata": {
        "id": "2kQ27cgvzW7P"
      },
      "source": [
        "# menyimpan Image\n",
        "cv2.imwrite(\"rotate.png\", rotated)"
      ],
      "execution_count": null,
      "outputs": []
    },
    {
      "cell_type": "code",
      "metadata": {
        "id": "PwsNbwbKzlLC"
      },
      "source": [
        "#adjust image contrast\n",
        "import numpy as np\n",
        "im_adjusted = cv2.addWeighted(im_resized, 1.5, np.zeros(im_resized.shape, im_resized.dtype), 0, -100)\n",
        "\n",
        "\n",
        "cv2.imshow('Original Image',im_resized)\n",
        "cv2.imshow('Adjusted Image',im_adjusted)\n",
        "cv2.waitKey(0)\n",
        "cv2.destroyAllWindows()"
      ],
      "execution_count": null,
      "outputs": []
    },
    {
      "cell_type": "code",
      "metadata": {
        "id": "vbFcbAc-0SkN"
      },
      "source": [
        "# detect edges\n",
        "im_edges = cv2.Canny(im_resized, 100, 200)\n",
        "\n",
        "cv2.imshow('Original Image',im_resized)\n",
        "cv2.imshow('Detected Edges',im_edges)\n",
        "cv2.waitKey(0)\\n\n",
        "cv2.destroyAllWindows()"
      ],
      "execution_count": null,
      "outputs": []
    },
    {
      "cell_type": "code",
      "metadata": {
        "id": "iMRYbc5F03F4"
      },
      "source": [
        "# covert image to greyscale\n",
        "im_gray = cv2.cvtColor(im_resized, cv2.COLOR_BGR2GRAY)\n",
        "\n",
        "cv2.imshow('Original Image',im_resized)\n",
        "cv2.imshow('Grayscale Image',im_gray)\n",
        "cv2.waitKey(0)\n",
        "cv2.destroyAllWindows()"
      ],
      "execution_count": null,
      "outputs": []
    },
    {
      "cell_type": "code",
      "metadata": {
        "id": "AT8Dnh0e1ZRa"
      },
      "source": [
        "#get All file in folder\n",
        "import glob\n",
        "\n",
        "imdir = 'dataset/elephant/'\n",
        "ext = ['png', 'jpg', 'gif']    # Add image formats here\n",
        "\n",
        "files = []\n",
        "[files.extend(glob.glob(imdir + '*.' + e)) for e in ext]\n",
        "  \n",
        "images = [cv2.imread(file) for file in files]\n",
        "  \n",
        "# adjust contrast to all of them nd save to different location\n",
        "i = 1\n",
        "for img in images:\n",
        "    im_adjusted = cv2.addWeighted(img, 1.5, np.zeros(img.shape, img.dtype), 0, -100)\n",
        "    im_name = \"dataset/elephant_contrast/\" + str(i) + \".jpg\"\n",
        "    cv2.imwrite(im_name, im_adjusted)\n",
        "    i+=1"
      ],
      "execution_count": null,
      "outputs": []
    }
  ]
}